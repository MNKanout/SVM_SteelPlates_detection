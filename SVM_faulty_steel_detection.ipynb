{
 "cells": [
  {
   "cell_type": "markdown",
   "id": "42d212bb",
   "metadata": {
    "papermill": {
     "duration": 0.077875,
     "end_time": "2022-07-03T17:01:13.731828",
     "exception": false,
     "start_time": "2022-07-03T17:01:13.653953",
     "status": "completed"
    },
    "tags": []
   },
   "source": [
    "# Steel plates fault classification"
   ]
  },
  {
   "cell_type": "markdown",
   "id": "05dea024",
   "metadata": {
    "papermill": {
     "duration": 0.073632,
     "end_time": "2022-07-03T17:01:13.884615",
     "exception": false,
     "start_time": "2022-07-03T17:01:13.810983",
     "status": "completed"
    },
    "tags": []
   },
   "source": [
    "## Data Exploration"
   ]
  },
  {
   "cell_type": "code",
   "execution_count": 1,
   "id": "56113c10",
   "metadata": {
    "_cell_guid": "b1076dfc-b9ad-4769-8c92-a6c4dae69d19",
    "_uuid": "8f2839f25d086af736a60e9eeb907d3b93b6e0e5",
    "execution": {
     "iopub.execute_input": "2022-07-03T17:01:14.041649Z",
     "iopub.status.busy": "2022-07-03T17:01:14.040688Z",
     "iopub.status.idle": "2022-07-03T17:01:15.206441Z",
     "shell.execute_reply": "2022-07-03T17:01:15.205690Z",
     "shell.execute_reply.started": "2022-05-04T12:59:48.060333Z"
    },
    "papermill": {
     "duration": 1.247969,
     "end_time": "2022-07-03T17:01:15.206616",
     "exception": false,
     "start_time": "2022-07-03T17:01:13.958647",
     "status": "completed"
    },
    "tags": []
   },
   "outputs": [],
   "source": [
    "import pandas as pd\n",
    "import matplotlib.pyplot as plt\n",
    "import seaborn as ses\n",
    "import numpy as np\n",
    "from numpy import corrcoef"
   ]
  },
  {
   "cell_type": "code",
   "execution_count": 2,
   "id": "efa938c2",
   "metadata": {
    "execution": {
     "iopub.execute_input": "2022-07-03T17:01:15.360137Z",
     "iopub.status.busy": "2022-07-03T17:01:15.359450Z",
     "iopub.status.idle": "2022-07-03T17:01:26.453078Z",
     "shell.execute_reply": "2022-07-03T17:01:26.452360Z",
     "shell.execute_reply.started": "2022-05-04T12:59:49.100706Z"
    },
    "papermill": {
     "duration": 11.171113,
     "end_time": "2022-07-03T17:01:26.453260",
     "exception": false,
     "start_time": "2022-07-03T17:01:15.282147",
     "status": "completed"
    },
    "tags": []
   },
   "outputs": [
    {
     "name": "stdout",
     "output_type": "stream",
     "text": [
      "Collecting openpyxl\r\n",
      "  Downloading openpyxl-3.0.10-py2.py3-none-any.whl (242 kB)\r\n",
      "     |████████████████████████████████| 242 kB 3.1 MB/s            \r\n",
      "\u001b[?25hCollecting et-xmlfile\r\n",
      "  Downloading et_xmlfile-1.1.0-py3-none-any.whl (4.7 kB)\r\n",
      "Installing collected packages: et-xmlfile, openpyxl\r\n",
      "Successfully installed et-xmlfile-1.1.0 openpyxl-3.0.10\r\n",
      "\u001b[33mWARNING: Running pip as the 'root' user can result in broken permissions and conflicting behaviour with the system package manager. It is recommended to use a virtual environment instead: https://pip.pypa.io/warnings/venv\u001b[0m\r\n",
      "Note: you may need to restart the kernel to use updated packages.\n"
     ]
    }
   ],
   "source": [
    "pip install openpyxl"
   ]
  },
  {
   "cell_type": "code",
   "execution_count": 3,
   "id": "292da7da",
   "metadata": {
    "execution": {
     "iopub.execute_input": "2022-07-03T17:01:26.610718Z",
     "iopub.status.busy": "2022-07-03T17:01:26.609792Z",
     "iopub.status.idle": "2022-07-03T17:01:26.612765Z",
     "shell.execute_reply": "2022-07-03T17:01:26.612285Z",
     "shell.execute_reply.started": "2022-05-04T13:00:01.676709Z"
    },
    "papermill": {
     "duration": 0.083049,
     "end_time": "2022-07-03T17:01:26.612905",
     "exception": false,
     "start_time": "2022-07-03T17:01:26.529856",
     "status": "completed"
    },
    "tags": []
   },
   "outputs": [],
   "source": [
    "pd.options.display.max_columns = None"
   ]
  },
  {
   "cell_type": "code",
   "execution_count": 4,
   "id": "fb428d28",
   "metadata": {
    "execution": {
     "iopub.execute_input": "2022-07-03T17:01:26.767913Z",
     "iopub.status.busy": "2022-07-03T17:01:26.766219Z",
     "iopub.status.idle": "2022-07-03T17:01:28.312482Z",
     "shell.execute_reply": "2022-07-03T17:01:28.311957Z",
     "shell.execute_reply.started": "2022-05-04T13:00:01.68463Z"
    },
    "papermill": {
     "duration": 1.624331,
     "end_time": "2022-07-03T17:01:28.312624",
     "exception": false,
     "start_time": "2022-07-03T17:01:26.688293",
     "status": "completed"
    },
    "tags": []
   },
   "outputs": [
    {
     "data": {
      "text/html": [
       "<div>\n",
       "<style scoped>\n",
       "    .dataframe tbody tr th:only-of-type {\n",
       "        vertical-align: middle;\n",
       "    }\n",
       "\n",
       "    .dataframe tbody tr th {\n",
       "        vertical-align: top;\n",
       "    }\n",
       "\n",
       "    .dataframe thead th {\n",
       "        text-align: right;\n",
       "    }\n",
       "</style>\n",
       "<table border=\"1\" class=\"dataframe\">\n",
       "  <thead>\n",
       "    <tr style=\"text-align: right;\">\n",
       "      <th></th>\n",
       "      <th>0</th>\n",
       "      <th>1</th>\n",
       "      <th>2</th>\n",
       "      <th>3</th>\n",
       "      <th>4</th>\n",
       "      <th>5</th>\n",
       "      <th>6</th>\n",
       "      <th>7</th>\n",
       "      <th>8</th>\n",
       "      <th>9</th>\n",
       "      <th>10</th>\n",
       "      <th>11</th>\n",
       "      <th>12</th>\n",
       "      <th>13</th>\n",
       "      <th>14</th>\n",
       "      <th>15</th>\n",
       "      <th>16</th>\n",
       "      <th>17</th>\n",
       "      <th>18</th>\n",
       "      <th>19</th>\n",
       "      <th>20</th>\n",
       "      <th>21</th>\n",
       "      <th>22</th>\n",
       "      <th>23</th>\n",
       "      <th>24</th>\n",
       "      <th>25</th>\n",
       "      <th>26</th>\n",
       "      <th>27</th>\n",
       "      <th>28</th>\n",
       "      <th>29</th>\n",
       "      <th>30</th>\n",
       "      <th>31</th>\n",
       "      <th>32</th>\n",
       "      <th>33</th>\n",
       "    </tr>\n",
       "  </thead>\n",
       "  <tbody>\n",
       "    <tr>\n",
       "      <th>0</th>\n",
       "      <td>42</td>\n",
       "      <td>50</td>\n",
       "      <td>270900</td>\n",
       "      <td>270944</td>\n",
       "      <td>267</td>\n",
       "      <td>17</td>\n",
       "      <td>44</td>\n",
       "      <td>24220</td>\n",
       "      <td>76</td>\n",
       "      <td>108</td>\n",
       "      <td>1687</td>\n",
       "      <td>1</td>\n",
       "      <td>0</td>\n",
       "      <td>80</td>\n",
       "      <td>0.0498</td>\n",
       "      <td>0.2415</td>\n",
       "      <td>0.1818</td>\n",
       "      <td>0.0047</td>\n",
       "      <td>0.4706</td>\n",
       "      <td>1.0000</td>\n",
       "      <td>1.0</td>\n",
       "      <td>2.4265</td>\n",
       "      <td>0.9031</td>\n",
       "      <td>1.6435</td>\n",
       "      <td>0.8182</td>\n",
       "      <td>-0.2913</td>\n",
       "      <td>0.5822</td>\n",
       "      <td>1</td>\n",
       "      <td>0</td>\n",
       "      <td>0</td>\n",
       "      <td>0</td>\n",
       "      <td>0</td>\n",
       "      <td>0</td>\n",
       "      <td>0</td>\n",
       "    </tr>\n",
       "    <tr>\n",
       "      <th>1</th>\n",
       "      <td>645</td>\n",
       "      <td>651</td>\n",
       "      <td>2538079</td>\n",
       "      <td>2538108</td>\n",
       "      <td>108</td>\n",
       "      <td>10</td>\n",
       "      <td>30</td>\n",
       "      <td>11397</td>\n",
       "      <td>84</td>\n",
       "      <td>123</td>\n",
       "      <td>1687</td>\n",
       "      <td>1</td>\n",
       "      <td>0</td>\n",
       "      <td>80</td>\n",
       "      <td>0.7647</td>\n",
       "      <td>0.3793</td>\n",
       "      <td>0.2069</td>\n",
       "      <td>0.0036</td>\n",
       "      <td>0.6000</td>\n",
       "      <td>0.9667</td>\n",
       "      <td>1.0</td>\n",
       "      <td>2.0334</td>\n",
       "      <td>0.7782</td>\n",
       "      <td>1.4624</td>\n",
       "      <td>0.7931</td>\n",
       "      <td>-0.1756</td>\n",
       "      <td>0.2984</td>\n",
       "      <td>1</td>\n",
       "      <td>0</td>\n",
       "      <td>0</td>\n",
       "      <td>0</td>\n",
       "      <td>0</td>\n",
       "      <td>0</td>\n",
       "      <td>0</td>\n",
       "    </tr>\n",
       "    <tr>\n",
       "      <th>2</th>\n",
       "      <td>829</td>\n",
       "      <td>835</td>\n",
       "      <td>1553913</td>\n",
       "      <td>1553931</td>\n",
       "      <td>71</td>\n",
       "      <td>8</td>\n",
       "      <td>19</td>\n",
       "      <td>7972</td>\n",
       "      <td>99</td>\n",
       "      <td>125</td>\n",
       "      <td>1623</td>\n",
       "      <td>1</td>\n",
       "      <td>0</td>\n",
       "      <td>100</td>\n",
       "      <td>0.9710</td>\n",
       "      <td>0.3426</td>\n",
       "      <td>0.3333</td>\n",
       "      <td>0.0037</td>\n",
       "      <td>0.7500</td>\n",
       "      <td>0.9474</td>\n",
       "      <td>1.0</td>\n",
       "      <td>1.8513</td>\n",
       "      <td>0.7782</td>\n",
       "      <td>1.2553</td>\n",
       "      <td>0.6667</td>\n",
       "      <td>-0.1228</td>\n",
       "      <td>0.2150</td>\n",
       "      <td>1</td>\n",
       "      <td>0</td>\n",
       "      <td>0</td>\n",
       "      <td>0</td>\n",
       "      <td>0</td>\n",
       "      <td>0</td>\n",
       "      <td>0</td>\n",
       "    </tr>\n",
       "    <tr>\n",
       "      <th>3</th>\n",
       "      <td>853</td>\n",
       "      <td>860</td>\n",
       "      <td>369370</td>\n",
       "      <td>369415</td>\n",
       "      <td>176</td>\n",
       "      <td>13</td>\n",
       "      <td>45</td>\n",
       "      <td>18996</td>\n",
       "      <td>99</td>\n",
       "      <td>126</td>\n",
       "      <td>1353</td>\n",
       "      <td>0</td>\n",
       "      <td>1</td>\n",
       "      <td>290</td>\n",
       "      <td>0.7287</td>\n",
       "      <td>0.4413</td>\n",
       "      <td>0.1556</td>\n",
       "      <td>0.0052</td>\n",
       "      <td>0.5385</td>\n",
       "      <td>1.0000</td>\n",
       "      <td>1.0</td>\n",
       "      <td>2.2455</td>\n",
       "      <td>0.8451</td>\n",
       "      <td>1.6532</td>\n",
       "      <td>0.8444</td>\n",
       "      <td>-0.1568</td>\n",
       "      <td>0.5212</td>\n",
       "      <td>1</td>\n",
       "      <td>0</td>\n",
       "      <td>0</td>\n",
       "      <td>0</td>\n",
       "      <td>0</td>\n",
       "      <td>0</td>\n",
       "      <td>0</td>\n",
       "    </tr>\n",
       "    <tr>\n",
       "      <th>4</th>\n",
       "      <td>1289</td>\n",
       "      <td>1306</td>\n",
       "      <td>498078</td>\n",
       "      <td>498335</td>\n",
       "      <td>2409</td>\n",
       "      <td>60</td>\n",
       "      <td>260</td>\n",
       "      <td>246930</td>\n",
       "      <td>37</td>\n",
       "      <td>126</td>\n",
       "      <td>1353</td>\n",
       "      <td>0</td>\n",
       "      <td>1</td>\n",
       "      <td>185</td>\n",
       "      <td>0.0695</td>\n",
       "      <td>0.4486</td>\n",
       "      <td>0.0662</td>\n",
       "      <td>0.0126</td>\n",
       "      <td>0.2833</td>\n",
       "      <td>0.9885</td>\n",
       "      <td>1.0</td>\n",
       "      <td>3.3818</td>\n",
       "      <td>1.2305</td>\n",
       "      <td>2.4099</td>\n",
       "      <td>0.9338</td>\n",
       "      <td>-0.1992</td>\n",
       "      <td>1.0000</td>\n",
       "      <td>1</td>\n",
       "      <td>0</td>\n",
       "      <td>0</td>\n",
       "      <td>0</td>\n",
       "      <td>0</td>\n",
       "      <td>0</td>\n",
       "      <td>0</td>\n",
       "    </tr>\n",
       "    <tr>\n",
       "      <th>...</th>\n",
       "      <td>...</td>\n",
       "      <td>...</td>\n",
       "      <td>...</td>\n",
       "      <td>...</td>\n",
       "      <td>...</td>\n",
       "      <td>...</td>\n",
       "      <td>...</td>\n",
       "      <td>...</td>\n",
       "      <td>...</td>\n",
       "      <td>...</td>\n",
       "      <td>...</td>\n",
       "      <td>...</td>\n",
       "      <td>...</td>\n",
       "      <td>...</td>\n",
       "      <td>...</td>\n",
       "      <td>...</td>\n",
       "      <td>...</td>\n",
       "      <td>...</td>\n",
       "      <td>...</td>\n",
       "      <td>...</td>\n",
       "      <td>...</td>\n",
       "      <td>...</td>\n",
       "      <td>...</td>\n",
       "      <td>...</td>\n",
       "      <td>...</td>\n",
       "      <td>...</td>\n",
       "      <td>...</td>\n",
       "      <td>...</td>\n",
       "      <td>...</td>\n",
       "      <td>...</td>\n",
       "      <td>...</td>\n",
       "      <td>...</td>\n",
       "      <td>...</td>\n",
       "      <td>...</td>\n",
       "    </tr>\n",
       "    <tr>\n",
       "      <th>1896</th>\n",
       "      <td>249</td>\n",
       "      <td>277</td>\n",
       "      <td>325780</td>\n",
       "      <td>325796</td>\n",
       "      <td>273</td>\n",
       "      <td>54</td>\n",
       "      <td>22</td>\n",
       "      <td>35033</td>\n",
       "      <td>119</td>\n",
       "      <td>141</td>\n",
       "      <td>1360</td>\n",
       "      <td>0</td>\n",
       "      <td>1</td>\n",
       "      <td>40</td>\n",
       "      <td>0.3662</td>\n",
       "      <td>0.3906</td>\n",
       "      <td>0.5714</td>\n",
       "      <td>0.0206</td>\n",
       "      <td>0.5185</td>\n",
       "      <td>0.7273</td>\n",
       "      <td>0.0</td>\n",
       "      <td>2.4362</td>\n",
       "      <td>1.4472</td>\n",
       "      <td>1.2041</td>\n",
       "      <td>-0.4286</td>\n",
       "      <td>0.0026</td>\n",
       "      <td>0.7254</td>\n",
       "      <td>0</td>\n",
       "      <td>0</td>\n",
       "      <td>0</td>\n",
       "      <td>0</td>\n",
       "      <td>0</td>\n",
       "      <td>0</td>\n",
       "      <td>1</td>\n",
       "    </tr>\n",
       "    <tr>\n",
       "      <th>1897</th>\n",
       "      <td>144</td>\n",
       "      <td>175</td>\n",
       "      <td>340581</td>\n",
       "      <td>340598</td>\n",
       "      <td>287</td>\n",
       "      <td>44</td>\n",
       "      <td>24</td>\n",
       "      <td>34599</td>\n",
       "      <td>112</td>\n",
       "      <td>133</td>\n",
       "      <td>1360</td>\n",
       "      <td>0</td>\n",
       "      <td>1</td>\n",
       "      <td>40</td>\n",
       "      <td>0.2118</td>\n",
       "      <td>0.4554</td>\n",
       "      <td>0.5484</td>\n",
       "      <td>0.0228</td>\n",
       "      <td>0.7046</td>\n",
       "      <td>0.7083</td>\n",
       "      <td>0.0</td>\n",
       "      <td>2.4579</td>\n",
       "      <td>1.4914</td>\n",
       "      <td>1.2305</td>\n",
       "      <td>-0.4516</td>\n",
       "      <td>-0.0582</td>\n",
       "      <td>0.8173</td>\n",
       "      <td>0</td>\n",
       "      <td>0</td>\n",
       "      <td>0</td>\n",
       "      <td>0</td>\n",
       "      <td>0</td>\n",
       "      <td>0</td>\n",
       "      <td>1</td>\n",
       "    </tr>\n",
       "    <tr>\n",
       "      <th>1898</th>\n",
       "      <td>145</td>\n",
       "      <td>174</td>\n",
       "      <td>386779</td>\n",
       "      <td>386794</td>\n",
       "      <td>292</td>\n",
       "      <td>40</td>\n",
       "      <td>22</td>\n",
       "      <td>37572</td>\n",
       "      <td>120</td>\n",
       "      <td>140</td>\n",
       "      <td>1360</td>\n",
       "      <td>0</td>\n",
       "      <td>1</td>\n",
       "      <td>40</td>\n",
       "      <td>0.2132</td>\n",
       "      <td>0.3287</td>\n",
       "      <td>0.5172</td>\n",
       "      <td>0.0213</td>\n",
       "      <td>0.7250</td>\n",
       "      <td>0.6818</td>\n",
       "      <td>0.0</td>\n",
       "      <td>2.4654</td>\n",
       "      <td>1.4624</td>\n",
       "      <td>1.1761</td>\n",
       "      <td>-0.4828</td>\n",
       "      <td>0.0052</td>\n",
       "      <td>0.7079</td>\n",
       "      <td>0</td>\n",
       "      <td>0</td>\n",
       "      <td>0</td>\n",
       "      <td>0</td>\n",
       "      <td>0</td>\n",
       "      <td>0</td>\n",
       "      <td>1</td>\n",
       "    </tr>\n",
       "    <tr>\n",
       "      <th>1899</th>\n",
       "      <td>137</td>\n",
       "      <td>170</td>\n",
       "      <td>422497</td>\n",
       "      <td>422528</td>\n",
       "      <td>419</td>\n",
       "      <td>97</td>\n",
       "      <td>47</td>\n",
       "      <td>52715</td>\n",
       "      <td>117</td>\n",
       "      <td>140</td>\n",
       "      <td>1360</td>\n",
       "      <td>0</td>\n",
       "      <td>1</td>\n",
       "      <td>40</td>\n",
       "      <td>0.2015</td>\n",
       "      <td>0.5904</td>\n",
       "      <td>0.9394</td>\n",
       "      <td>0.0243</td>\n",
       "      <td>0.3402</td>\n",
       "      <td>0.6596</td>\n",
       "      <td>0.0</td>\n",
       "      <td>2.6222</td>\n",
       "      <td>1.5185</td>\n",
       "      <td>1.4914</td>\n",
       "      <td>-0.0606</td>\n",
       "      <td>-0.0171</td>\n",
       "      <td>0.9919</td>\n",
       "      <td>0</td>\n",
       "      <td>0</td>\n",
       "      <td>0</td>\n",
       "      <td>0</td>\n",
       "      <td>0</td>\n",
       "      <td>0</td>\n",
       "      <td>1</td>\n",
       "    </tr>\n",
       "    <tr>\n",
       "      <th>1900</th>\n",
       "      <td>1261</td>\n",
       "      <td>1281</td>\n",
       "      <td>87951</td>\n",
       "      <td>87967</td>\n",
       "      <td>103</td>\n",
       "      <td>26</td>\n",
       "      <td>22</td>\n",
       "      <td>11682</td>\n",
       "      <td>101</td>\n",
       "      <td>133</td>\n",
       "      <td>1360</td>\n",
       "      <td>1</td>\n",
       "      <td>0</td>\n",
       "      <td>80</td>\n",
       "      <td>0.1162</td>\n",
       "      <td>0.6781</td>\n",
       "      <td>0.8000</td>\n",
       "      <td>0.0147</td>\n",
       "      <td>0.7692</td>\n",
       "      <td>0.7273</td>\n",
       "      <td>0.0</td>\n",
       "      <td>2.0128</td>\n",
       "      <td>1.3010</td>\n",
       "      <td>1.2041</td>\n",
       "      <td>-0.2000</td>\n",
       "      <td>-0.1139</td>\n",
       "      <td>0.5296</td>\n",
       "      <td>0</td>\n",
       "      <td>0</td>\n",
       "      <td>0</td>\n",
       "      <td>0</td>\n",
       "      <td>0</td>\n",
       "      <td>0</td>\n",
       "      <td>1</td>\n",
       "    </tr>\n",
       "  </tbody>\n",
       "</table>\n",
       "<p>1901 rows × 34 columns</p>\n",
       "</div>"
      ],
      "text/plain": [
       "        0     1        2        3     4   5    6       7    8    9     10  11  \\\n",
       "0       42    50   270900   270944   267  17   44   24220   76  108  1687   1   \n",
       "1      645   651  2538079  2538108   108  10   30   11397   84  123  1687   1   \n",
       "2      829   835  1553913  1553931    71   8   19    7972   99  125  1623   1   \n",
       "3      853   860   369370   369415   176  13   45   18996   99  126  1353   0   \n",
       "4     1289  1306   498078   498335  2409  60  260  246930   37  126  1353   0   \n",
       "...    ...   ...      ...      ...   ...  ..  ...     ...  ...  ...   ...  ..   \n",
       "1896   249   277   325780   325796   273  54   22   35033  119  141  1360   0   \n",
       "1897   144   175   340581   340598   287  44   24   34599  112  133  1360   0   \n",
       "1898   145   174   386779   386794   292  40   22   37572  120  140  1360   0   \n",
       "1899   137   170   422497   422528   419  97   47   52715  117  140  1360   0   \n",
       "1900  1261  1281    87951    87967   103  26   22   11682  101  133  1360   1   \n",
       "\n",
       "      12   13      14      15      16      17      18      19   20      21  \\\n",
       "0      0   80  0.0498  0.2415  0.1818  0.0047  0.4706  1.0000  1.0  2.4265   \n",
       "1      0   80  0.7647  0.3793  0.2069  0.0036  0.6000  0.9667  1.0  2.0334   \n",
       "2      0  100  0.9710  0.3426  0.3333  0.0037  0.7500  0.9474  1.0  1.8513   \n",
       "3      1  290  0.7287  0.4413  0.1556  0.0052  0.5385  1.0000  1.0  2.2455   \n",
       "4      1  185  0.0695  0.4486  0.0662  0.0126  0.2833  0.9885  1.0  3.3818   \n",
       "...   ..  ...     ...     ...     ...     ...     ...     ...  ...     ...   \n",
       "1896   1   40  0.3662  0.3906  0.5714  0.0206  0.5185  0.7273  0.0  2.4362   \n",
       "1897   1   40  0.2118  0.4554  0.5484  0.0228  0.7046  0.7083  0.0  2.4579   \n",
       "1898   1   40  0.2132  0.3287  0.5172  0.0213  0.7250  0.6818  0.0  2.4654   \n",
       "1899   1   40  0.2015  0.5904  0.9394  0.0243  0.3402  0.6596  0.0  2.6222   \n",
       "1900   0   80  0.1162  0.6781  0.8000  0.0147  0.7692  0.7273  0.0  2.0128   \n",
       "\n",
       "          22      23      24      25      26  27  28  29  30  31  32  33  \n",
       "0     0.9031  1.6435  0.8182 -0.2913  0.5822   1   0   0   0   0   0   0  \n",
       "1     0.7782  1.4624  0.7931 -0.1756  0.2984   1   0   0   0   0   0   0  \n",
       "2     0.7782  1.2553  0.6667 -0.1228  0.2150   1   0   0   0   0   0   0  \n",
       "3     0.8451  1.6532  0.8444 -0.1568  0.5212   1   0   0   0   0   0   0  \n",
       "4     1.2305  2.4099  0.9338 -0.1992  1.0000   1   0   0   0   0   0   0  \n",
       "...      ...     ...     ...     ...     ...  ..  ..  ..  ..  ..  ..  ..  \n",
       "1896  1.4472  1.2041 -0.4286  0.0026  0.7254   0   0   0   0   0   0   1  \n",
       "1897  1.4914  1.2305 -0.4516 -0.0582  0.8173   0   0   0   0   0   0   1  \n",
       "1898  1.4624  1.1761 -0.4828  0.0052  0.7079   0   0   0   0   0   0   1  \n",
       "1899  1.5185  1.4914 -0.0606 -0.0171  0.9919   0   0   0   0   0   0   1  \n",
       "1900  1.3010  1.2041 -0.2000 -0.1139  0.5296   0   0   0   0   0   0   1  \n",
       "\n",
       "[1901 rows x 34 columns]"
      ]
     },
     "execution_count": 4,
     "metadata": {},
     "output_type": "execute_result"
    }
   ],
   "source": [
    "df = pd.read_excel('../input/steel-plates-fault-dataset/Steel Plates Fault Dataset.xlsx',header=None)\n",
    "df"
   ]
  },
  {
   "cell_type": "code",
   "execution_count": 5,
   "id": "81ef1e9f",
   "metadata": {
    "execution": {
     "iopub.execute_input": "2022-07-03T17:01:28.468960Z",
     "iopub.status.busy": "2022-07-03T17:01:28.468318Z",
     "iopub.status.idle": "2022-07-03T17:01:28.490217Z",
     "shell.execute_reply": "2022-07-03T17:01:28.490694Z",
     "shell.execute_reply.started": "2022-05-04T13:00:03.247959Z"
    },
    "papermill": {
     "duration": 0.101109,
     "end_time": "2022-07-03T17:01:28.490871",
     "exception": false,
     "start_time": "2022-07-03T17:01:28.389762",
     "status": "completed"
    },
    "tags": []
   },
   "outputs": [
    {
     "name": "stdout",
     "output_type": "stream",
     "text": [
      "<class 'pandas.core.frame.DataFrame'>\n",
      "RangeIndex: 1901 entries, 0 to 1900\n",
      "Data columns (total 34 columns):\n",
      " #   Column  Non-Null Count  Dtype  \n",
      "---  ------  --------------  -----  \n",
      " 0   0       1901 non-null   int64  \n",
      " 1   1       1901 non-null   int64  \n",
      " 2   2       1901 non-null   int64  \n",
      " 3   3       1901 non-null   int64  \n",
      " 4   4       1901 non-null   int64  \n",
      " 5   5       1901 non-null   int64  \n",
      " 6   6       1901 non-null   int64  \n",
      " 7   7       1901 non-null   int64  \n",
      " 8   8       1901 non-null   int64  \n",
      " 9   9       1901 non-null   int64  \n",
      " 10  10      1901 non-null   int64  \n",
      " 11  11      1901 non-null   int64  \n",
      " 12  12      1901 non-null   int64  \n",
      " 13  13      1901 non-null   int64  \n",
      " 14  14      1901 non-null   float64\n",
      " 15  15      1901 non-null   float64\n",
      " 16  16      1901 non-null   float64\n",
      " 17  17      1901 non-null   float64\n",
      " 18  18      1901 non-null   float64\n",
      " 19  19      1901 non-null   float64\n",
      " 20  20      1901 non-null   float64\n",
      " 21  21      1901 non-null   float64\n",
      " 22  22      1901 non-null   float64\n",
      " 23  23      1901 non-null   float64\n",
      " 24  24      1901 non-null   float64\n",
      " 25  25      1901 non-null   float64\n",
      " 26  26      1901 non-null   float64\n",
      " 27  27      1901 non-null   int64  \n",
      " 28  28      1901 non-null   int64  \n",
      " 29  29      1901 non-null   int64  \n",
      " 30  30      1901 non-null   int64  \n",
      " 31  31      1901 non-null   int64  \n",
      " 32  32      1901 non-null   int64  \n",
      " 33  33      1901 non-null   int64  \n",
      "dtypes: float64(13), int64(21)\n",
      "memory usage: 505.1 KB\n"
     ]
    }
   ],
   "source": [
    "# Check data types\n",
    "df.info()"
   ]
  },
  {
   "cell_type": "code",
   "execution_count": 6,
   "id": "f8c699f6",
   "metadata": {
    "execution": {
     "iopub.execute_input": "2022-07-03T17:01:28.654362Z",
     "iopub.status.busy": "2022-07-03T17:01:28.653148Z",
     "iopub.status.idle": "2022-07-03T17:01:28.673429Z",
     "shell.execute_reply": "2022-07-03T17:01:28.674018Z",
     "shell.execute_reply.started": "2022-05-04T13:00:03.273113Z"
    },
    "papermill": {
     "duration": 0.105799,
     "end_time": "2022-07-03T17:01:28.674246",
     "exception": false,
     "start_time": "2022-07-03T17:01:28.568447",
     "status": "completed"
    },
    "tags": []
   },
   "outputs": [
    {
     "name": "stdout",
     "output_type": "stream",
     "text": [
      "<class 'pandas.core.frame.DataFrame'>\n",
      "RangeIndex: 1901 entries, 0 to 1900\n",
      "Data columns (total 34 columns):\n",
      " #   Column  Non-Null Count  Dtype  \n",
      "---  ------  --------------  -----  \n",
      " 0   0       1901 non-null   float64\n",
      " 1   1       1901 non-null   float64\n",
      " 2   2       1901 non-null   float64\n",
      " 3   3       1901 non-null   float64\n",
      " 4   4       1901 non-null   float64\n",
      " 5   5       1901 non-null   float64\n",
      " 6   6       1901 non-null   float64\n",
      " 7   7       1901 non-null   float64\n",
      " 8   8       1901 non-null   float64\n",
      " 9   9       1901 non-null   float64\n",
      " 10  10      1901 non-null   float64\n",
      " 11  11      1901 non-null   float64\n",
      " 12  12      1901 non-null   float64\n",
      " 13  13      1901 non-null   float64\n",
      " 14  14      1901 non-null   float64\n",
      " 15  15      1901 non-null   float64\n",
      " 16  16      1901 non-null   float64\n",
      " 17  17      1901 non-null   float64\n",
      " 18  18      1901 non-null   float64\n",
      " 19  19      1901 non-null   float64\n",
      " 20  20      1901 non-null   float64\n",
      " 21  21      1901 non-null   float64\n",
      " 22  22      1901 non-null   float64\n",
      " 23  23      1901 non-null   float64\n",
      " 24  24      1901 non-null   float64\n",
      " 25  25      1901 non-null   float64\n",
      " 26  26      1901 non-null   float64\n",
      " 27  27      1901 non-null   int64  \n",
      " 28  28      1901 non-null   int64  \n",
      " 29  29      1901 non-null   int64  \n",
      " 30  30      1901 non-null   int64  \n",
      " 31  31      1901 non-null   int64  \n",
      " 32  32      1901 non-null   int64  \n",
      " 33  33      1901 non-null   int64  \n",
      "dtypes: float64(27), int64(7)\n",
      "memory usage: 505.1 KB\n"
     ]
    }
   ],
   "source": [
    "# Convert columns 0 to 13 from intger to float\n",
    "df.loc[:,:13] = df.loc[:,:13].astype('float64')\n",
    "df.info()"
   ]
  },
  {
   "cell_type": "code",
   "execution_count": 7,
   "id": "3f01342b",
   "metadata": {
    "execution": {
     "iopub.execute_input": "2022-07-03T17:01:28.914074Z",
     "iopub.status.busy": "2022-07-03T17:01:28.913034Z",
     "iopub.status.idle": "2022-07-03T17:01:28.926686Z",
     "shell.execute_reply": "2022-07-03T17:01:28.927271Z",
     "shell.execute_reply.started": "2022-05-04T13:00:03.29943Z"
    },
    "papermill": {
     "duration": 0.138976,
     "end_time": "2022-07-03T17:01:28.927453",
     "exception": false,
     "start_time": "2022-07-03T17:01:28.788477",
     "status": "completed"
    },
    "tags": []
   },
   "outputs": [
    {
     "data": {
      "text/html": [
       "<div>\n",
       "<style scoped>\n",
       "    .dataframe tbody tr th:only-of-type {\n",
       "        vertical-align: middle;\n",
       "    }\n",
       "\n",
       "    .dataframe tbody tr th {\n",
       "        vertical-align: top;\n",
       "    }\n",
       "\n",
       "    .dataframe thead th {\n",
       "        text-align: right;\n",
       "    }\n",
       "</style>\n",
       "<table border=\"1\" class=\"dataframe\">\n",
       "  <thead>\n",
       "    <tr style=\"text-align: right;\">\n",
       "      <th></th>\n",
       "      <th>Missing values</th>\n",
       "    </tr>\n",
       "  </thead>\n",
       "  <tbody>\n",
       "    <tr>\n",
       "      <th>0</th>\n",
       "      <td>0</td>\n",
       "    </tr>\n",
       "    <tr>\n",
       "      <th>1</th>\n",
       "      <td>0</td>\n",
       "    </tr>\n",
       "    <tr>\n",
       "      <th>2</th>\n",
       "      <td>0</td>\n",
       "    </tr>\n",
       "    <tr>\n",
       "      <th>3</th>\n",
       "      <td>0</td>\n",
       "    </tr>\n",
       "    <tr>\n",
       "      <th>4</th>\n",
       "      <td>0</td>\n",
       "    </tr>\n",
       "    <tr>\n",
       "      <th>5</th>\n",
       "      <td>0</td>\n",
       "    </tr>\n",
       "    <tr>\n",
       "      <th>6</th>\n",
       "      <td>0</td>\n",
       "    </tr>\n",
       "    <tr>\n",
       "      <th>7</th>\n",
       "      <td>0</td>\n",
       "    </tr>\n",
       "    <tr>\n",
       "      <th>8</th>\n",
       "      <td>0</td>\n",
       "    </tr>\n",
       "    <tr>\n",
       "      <th>9</th>\n",
       "      <td>0</td>\n",
       "    </tr>\n",
       "    <tr>\n",
       "      <th>10</th>\n",
       "      <td>0</td>\n",
       "    </tr>\n",
       "    <tr>\n",
       "      <th>11</th>\n",
       "      <td>0</td>\n",
       "    </tr>\n",
       "    <tr>\n",
       "      <th>12</th>\n",
       "      <td>0</td>\n",
       "    </tr>\n",
       "    <tr>\n",
       "      <th>13</th>\n",
       "      <td>0</td>\n",
       "    </tr>\n",
       "    <tr>\n",
       "      <th>14</th>\n",
       "      <td>0</td>\n",
       "    </tr>\n",
       "    <tr>\n",
       "      <th>15</th>\n",
       "      <td>0</td>\n",
       "    </tr>\n",
       "    <tr>\n",
       "      <th>16</th>\n",
       "      <td>0</td>\n",
       "    </tr>\n",
       "    <tr>\n",
       "      <th>17</th>\n",
       "      <td>0</td>\n",
       "    </tr>\n",
       "    <tr>\n",
       "      <th>18</th>\n",
       "      <td>0</td>\n",
       "    </tr>\n",
       "    <tr>\n",
       "      <th>19</th>\n",
       "      <td>0</td>\n",
       "    </tr>\n",
       "    <tr>\n",
       "      <th>20</th>\n",
       "      <td>0</td>\n",
       "    </tr>\n",
       "    <tr>\n",
       "      <th>21</th>\n",
       "      <td>0</td>\n",
       "    </tr>\n",
       "    <tr>\n",
       "      <th>22</th>\n",
       "      <td>0</td>\n",
       "    </tr>\n",
       "    <tr>\n",
       "      <th>23</th>\n",
       "      <td>0</td>\n",
       "    </tr>\n",
       "    <tr>\n",
       "      <th>24</th>\n",
       "      <td>0</td>\n",
       "    </tr>\n",
       "    <tr>\n",
       "      <th>25</th>\n",
       "      <td>0</td>\n",
       "    </tr>\n",
       "    <tr>\n",
       "      <th>26</th>\n",
       "      <td>0</td>\n",
       "    </tr>\n",
       "    <tr>\n",
       "      <th>27</th>\n",
       "      <td>0</td>\n",
       "    </tr>\n",
       "    <tr>\n",
       "      <th>28</th>\n",
       "      <td>0</td>\n",
       "    </tr>\n",
       "    <tr>\n",
       "      <th>29</th>\n",
       "      <td>0</td>\n",
       "    </tr>\n",
       "    <tr>\n",
       "      <th>30</th>\n",
       "      <td>0</td>\n",
       "    </tr>\n",
       "    <tr>\n",
       "      <th>31</th>\n",
       "      <td>0</td>\n",
       "    </tr>\n",
       "    <tr>\n",
       "      <th>32</th>\n",
       "      <td>0</td>\n",
       "    </tr>\n",
       "    <tr>\n",
       "      <th>33</th>\n",
       "      <td>0</td>\n",
       "    </tr>\n",
       "  </tbody>\n",
       "</table>\n",
       "</div>"
      ],
      "text/plain": [
       "    Missing values\n",
       "0                0\n",
       "1                0\n",
       "2                0\n",
       "3                0\n",
       "4                0\n",
       "5                0\n",
       "6                0\n",
       "7                0\n",
       "8                0\n",
       "9                0\n",
       "10               0\n",
       "11               0\n",
       "12               0\n",
       "13               0\n",
       "14               0\n",
       "15               0\n",
       "16               0\n",
       "17               0\n",
       "18               0\n",
       "19               0\n",
       "20               0\n",
       "21               0\n",
       "22               0\n",
       "23               0\n",
       "24               0\n",
       "25               0\n",
       "26               0\n",
       "27               0\n",
       "28               0\n",
       "29               0\n",
       "30               0\n",
       "31               0\n",
       "32               0\n",
       "33               0"
      ]
     },
     "execution_count": 7,
     "metadata": {},
     "output_type": "execute_result"
    }
   ],
   "source": [
    "# Check for missing values\n",
    "pd.DataFrame(df.isna().sum(),columns=['Missing values'])"
   ]
  },
  {
   "cell_type": "code",
   "execution_count": 8,
   "id": "cf086749",
   "metadata": {
    "execution": {
     "iopub.execute_input": "2022-07-03T17:01:29.107867Z",
     "iopub.status.busy": "2022-07-03T17:01:29.106767Z",
     "iopub.status.idle": "2022-07-03T17:01:29.112421Z",
     "shell.execute_reply": "2022-07-03T17:01:29.112937Z",
     "shell.execute_reply.started": "2022-05-04T13:00:03.319863Z"
    },
    "papermill": {
     "duration": 0.104585,
     "end_time": "2022-07-03T17:01:29.113123",
     "exception": false,
     "start_time": "2022-07-03T17:01:29.008538",
     "status": "completed"
    },
    "tags": []
   },
   "outputs": [
    {
     "data": {
      "text/plain": [
       "(1901, 34)"
      ]
     },
     "execution_count": 8,
     "metadata": {},
     "output_type": "execute_result"
    }
   ],
   "source": [
    "df.shape"
   ]
  },
  {
   "cell_type": "code",
   "execution_count": 9,
   "id": "b00b0366",
   "metadata": {
    "execution": {
     "iopub.execute_input": "2022-07-03T17:01:29.273296Z",
     "iopub.status.busy": "2022-07-03T17:01:29.272607Z",
     "iopub.status.idle": "2022-07-03T17:01:29.279886Z",
     "shell.execute_reply": "2022-07-03T17:01:29.280504Z",
     "shell.execute_reply.started": "2022-05-04T13:00:03.328107Z"
    },
    "papermill": {
     "duration": 0.089542,
     "end_time": "2022-07-03T17:01:29.280729",
     "exception": false,
     "start_time": "2022-07-03T17:01:29.191187",
     "status": "completed"
    },
    "tags": []
   },
   "outputs": [],
   "source": [
    "# Split the data into independant(x) and dependant(y) variables dataframes for base-model\n",
    "df_x = df.loc[:,0:26]\n",
    "df_y = df.loc[:,27:33]"
   ]
  },
  {
   "cell_type": "code",
   "execution_count": 10,
   "id": "11e149ca",
   "metadata": {
    "execution": {
     "iopub.execute_input": "2022-07-03T17:01:29.450976Z",
     "iopub.status.busy": "2022-07-03T17:01:29.450299Z",
     "iopub.status.idle": "2022-07-03T17:01:29.465488Z",
     "shell.execute_reply": "2022-07-03T17:01:29.464633Z",
     "shell.execute_reply.started": "2022-05-04T13:00:03.345Z"
    },
    "papermill": {
     "duration": 0.097924,
     "end_time": "2022-07-03T17:01:29.465688",
     "exception": false,
     "start_time": "2022-07-03T17:01:29.367764",
     "status": "completed"
    },
    "tags": []
   },
   "outputs": [
    {
     "name": "stdout",
     "output_type": "stream",
     "text": [
      "[1 0]\n",
      "[0 1]\n",
      "[0 1]\n",
      "[0 1]\n",
      "[0 1]\n",
      "[0 1]\n",
      "[0 1]\n"
     ]
    }
   ],
   "source": [
    "# Print the unique values of the lables\n",
    "print(df_y[27].unique())\n",
    "print(df_y[28].unique())\n",
    "print(df_y[29].unique())\n",
    "print(df_y[30].unique())\n",
    "print(df_y[31].unique())\n",
    "print(df_y[32].unique())\n",
    "print(df_y[33].unique())"
   ]
  },
  {
   "cell_type": "code",
   "execution_count": 11,
   "id": "01cf4624",
   "metadata": {
    "execution": {
     "iopub.execute_input": "2022-07-03T17:01:29.642720Z",
     "iopub.status.busy": "2022-07-03T17:01:29.641980Z",
     "iopub.status.idle": "2022-07-03T17:01:29.645168Z",
     "shell.execute_reply": "2022-07-03T17:01:29.644578Z",
     "shell.execute_reply.started": "2022-05-04T13:00:03.358548Z"
    },
    "papermill": {
     "duration": 0.092628,
     "end_time": "2022-07-03T17:01:29.645313",
     "exception": false,
     "start_time": "2022-07-03T17:01:29.552685",
     "status": "completed"
    },
    "tags": []
   },
   "outputs": [
    {
     "data": {
      "text/plain": [
       "((1901, 27), (1901, 7))"
      ]
     },
     "execution_count": 11,
     "metadata": {},
     "output_type": "execute_result"
    }
   ],
   "source": [
    "df_x.shape, df_y.shape"
   ]
  },
  {
   "cell_type": "markdown",
   "id": "c85ec9df",
   "metadata": {
    "papermill": {
     "duration": 0.080337,
     "end_time": "2022-07-03T17:01:29.806061",
     "exception": false,
     "start_time": "2022-07-03T17:01:29.725724",
     "status": "completed"
    },
    "tags": []
   },
   "source": [
    "## Data preparation"
   ]
  },
  {
   "cell_type": "code",
   "execution_count": 12,
   "id": "05624229",
   "metadata": {
    "execution": {
     "iopub.execute_input": "2022-07-03T17:01:29.969262Z",
     "iopub.status.busy": "2022-07-03T17:01:29.968553Z",
     "iopub.status.idle": "2022-07-03T17:01:30.113211Z",
     "shell.execute_reply": "2022-07-03T17:01:30.112578Z",
     "shell.execute_reply.started": "2022-05-04T13:00:03.368742Z"
    },
    "papermill": {
     "duration": 0.227328,
     "end_time": "2022-07-03T17:01:30.113353",
     "exception": false,
     "start_time": "2022-07-03T17:01:29.886025",
     "status": "completed"
    },
    "tags": []
   },
   "outputs": [],
   "source": [
    "from sklearn.preprocessing import MinMaxScaler, StandardScaler"
   ]
  },
  {
   "cell_type": "code",
   "execution_count": 13,
   "id": "f0603f06",
   "metadata": {
    "execution": {
     "iopub.execute_input": "2022-07-03T17:01:30.282710Z",
     "iopub.status.busy": "2022-07-03T17:01:30.281949Z",
     "iopub.status.idle": "2022-07-03T17:01:30.292463Z",
     "shell.execute_reply": "2022-07-03T17:01:30.291879Z",
     "shell.execute_reply.started": "2022-05-04T13:00:03.507183Z"
    },
    "papermill": {
     "duration": 0.099264,
     "end_time": "2022-07-03T17:01:30.292616",
     "exception": false,
     "start_time": "2022-07-03T17:01:30.193352",
     "status": "completed"
    },
    "tags": []
   },
   "outputs": [],
   "source": [
    "# Split the labels into their own groups\n",
    "df_27 = df[27].loc[df[27]==1]\n",
    "df_28 = df[28].loc[df[28]==1]\n",
    "df_29 = df[29].loc[df[29]==1]\n",
    "df_30 = df[30].loc[df[30]==1]\n",
    "df_31 = df[31].loc[df[31]==1]\n",
    "df_32 = df[32].loc[df[32]==1]\n",
    "df_33 = df[33].loc[df[33]==1]\n",
    "\n",
    "# Change the labling to 1 to 7 that corresponds to labels from 27 to 33\n",
    "df_28 = df_28.where(df_28!=1, 2,axis=0)\n",
    "df_29 = df_29.where(df_29!=1, 3,axis=0)\n",
    "df_30 = df_30.where(df_30!=1, 4,axis=0)\n",
    "df_31 = df_31.where(df_31!=1, 5,axis=0)\n",
    "df_32 = df_32.where(df_32!=1, 6,axis=0)\n",
    "df_33 = df_33.where(df_33!=1, 7,axis=0)\n",
    "frames = [df_27,df_28,df_29,df_30,df_31,df_32,df_33] # With group 7\n",
    "y = pd.concat(frames)"
   ]
  },
  {
   "cell_type": "code",
   "execution_count": 14,
   "id": "35152905",
   "metadata": {
    "execution": {
     "iopub.execute_input": "2022-07-03T17:01:30.459404Z",
     "iopub.status.busy": "2022-07-03T17:01:30.458679Z",
     "iopub.status.idle": "2022-07-03T17:01:30.465554Z",
     "shell.execute_reply": "2022-07-03T17:01:30.466040Z",
     "shell.execute_reply.started": "2022-05-04T13:00:03.529648Z"
    },
    "papermill": {
     "duration": 0.094709,
     "end_time": "2022-07-03T17:01:30.466235",
     "exception": false,
     "start_time": "2022-07-03T17:01:30.371526",
     "status": "completed"
    },
    "tags": []
   },
   "outputs": [
    {
     "data": {
      "text/plain": [
       "((1901, 27), (1901,))"
      ]
     },
     "execution_count": 14,
     "metadata": {},
     "output_type": "execute_result"
    }
   ],
   "source": [
    "scaler = MinMaxScaler()\n",
    "#scaler = StandardScaler()\n",
    "x = scaler.fit_transform(df_x)\n",
    "x.shape, y.shape"
   ]
  },
  {
   "cell_type": "code",
   "execution_count": 15,
   "id": "12eddcde",
   "metadata": {
    "execution": {
     "iopub.execute_input": "2022-07-03T17:01:30.632372Z",
     "iopub.status.busy": "2022-07-03T17:01:30.626432Z",
     "iopub.status.idle": "2022-07-03T17:01:30.635193Z",
     "shell.execute_reply": "2022-07-03T17:01:30.635681Z",
     "shell.execute_reply.started": "2022-05-04T13:00:03.54474Z"
    },
    "papermill": {
     "duration": 0.091295,
     "end_time": "2022-07-03T17:01:30.635849",
     "exception": false,
     "start_time": "2022-07-03T17:01:30.544554",
     "status": "completed"
    },
    "tags": []
   },
   "outputs": [
    {
     "data": {
      "text/html": [
       "<div>\n",
       "<style scoped>\n",
       "    .dataframe tbody tr th:only-of-type {\n",
       "        vertical-align: middle;\n",
       "    }\n",
       "\n",
       "    .dataframe tbody tr th {\n",
       "        vertical-align: top;\n",
       "    }\n",
       "\n",
       "    .dataframe thead th {\n",
       "        text-align: right;\n",
       "    }\n",
       "</style>\n",
       "<table border=\"1\" class=\"dataframe\">\n",
       "  <thead>\n",
       "    <tr style=\"text-align: right;\">\n",
       "      <th></th>\n",
       "      <th>0</th>\n",
       "    </tr>\n",
       "  </thead>\n",
       "  <tbody>\n",
       "    <tr>\n",
       "      <th>7</th>\n",
       "      <td>668</td>\n",
       "    </tr>\n",
       "    <tr>\n",
       "      <th>6</th>\n",
       "      <td>397</td>\n",
       "    </tr>\n",
       "    <tr>\n",
       "      <th>3</th>\n",
       "      <td>386</td>\n",
       "    </tr>\n",
       "    <tr>\n",
       "      <th>2</th>\n",
       "      <td>185</td>\n",
       "    </tr>\n",
       "    <tr>\n",
       "      <th>1</th>\n",
       "      <td>148</td>\n",
       "    </tr>\n",
       "    <tr>\n",
       "      <th>4</th>\n",
       "      <td>67</td>\n",
       "    </tr>\n",
       "    <tr>\n",
       "      <th>5</th>\n",
       "      <td>50</td>\n",
       "    </tr>\n",
       "  </tbody>\n",
       "</table>\n",
       "</div>"
      ],
      "text/plain": [
       "     0\n",
       "7  668\n",
       "6  397\n",
       "3  386\n",
       "2  185\n",
       "1  148\n",
       "4   67\n",
       "5   50"
      ]
     },
     "execution_count": 15,
     "metadata": {},
     "output_type": "execute_result"
    }
   ],
   "source": [
    "pd.DataFrame(y.value_counts())"
   ]
  },
  {
   "cell_type": "code",
   "execution_count": 16,
   "id": "b60c2a49",
   "metadata": {
    "execution": {
     "iopub.execute_input": "2022-07-03T17:01:30.803069Z",
     "iopub.status.busy": "2022-07-03T17:01:30.802148Z",
     "iopub.status.idle": "2022-07-03T17:01:30.804764Z",
     "shell.execute_reply": "2022-07-03T17:01:30.804167Z",
     "shell.execute_reply.started": "2022-05-04T13:00:03.555343Z"
    },
    "papermill": {
     "duration": 0.090649,
     "end_time": "2022-07-03T17:01:30.804902",
     "exception": false,
     "start_time": "2022-07-03T17:01:30.714253",
     "status": "completed"
    },
    "tags": []
   },
   "outputs": [],
   "source": [
    "# Test the correlation between independant and dependant variables\n",
    "def bulk_correlation(df_x,df_y):\n",
    "    '''Print the correlation cofficitn of each attribute in the dataset'''\n",
    "    corr_df = pd.DataFrame(columns=['Attribute','Score'])\n",
    "    y = df_y\n",
    "    # Dependant variable is object/string type\n",
    "    if y.dtype == 'O':\n",
    "        y = df_y.astype('category').cat.codes\n",
    "    if not isinstance(df_x, pd.DataFrame):\n",
    "        df_x = pd.DataFrame(df_x)\n",
    "        for column in df_x:\n",
    "            # Independant variable type is object/string\n",
    "            x = df_x[column]\n",
    "            if x.dtype == 'O':\n",
    "                x = df_x[column].astype('category').cat.codes\n",
    "            corr_score = corrcoef(x,y)\n",
    "            corr_score = corr_score[0,1]\n",
    "            corr_df = corr_df.append({'Attribute':column,'Score':corr_score},ignore_index=True)\n",
    "            \n",
    "        return corr_df.sort_values(by='Score',ascending=False,axis=0)"
   ]
  },
  {
   "cell_type": "code",
   "execution_count": 17,
   "id": "f53721cb",
   "metadata": {
    "execution": {
     "iopub.execute_input": "2022-07-03T17:01:30.975386Z",
     "iopub.status.busy": "2022-07-03T17:01:30.974678Z",
     "iopub.status.idle": "2022-07-03T17:01:31.033326Z",
     "shell.execute_reply": "2022-07-03T17:01:31.032804Z",
     "shell.execute_reply.started": "2022-05-04T13:00:03.568455Z"
    },
    "papermill": {
     "duration": 0.146222,
     "end_time": "2022-07-03T17:01:31.033492",
     "exception": false,
     "start_time": "2022-07-03T17:01:30.887270",
     "status": "completed"
    },
    "tags": []
   },
   "outputs": [
    {
     "data": {
      "text/html": [
       "<div>\n",
       "<style scoped>\n",
       "    .dataframe tbody tr th:only-of-type {\n",
       "        vertical-align: middle;\n",
       "    }\n",
       "\n",
       "    .dataframe tbody tr th {\n",
       "        vertical-align: top;\n",
       "    }\n",
       "\n",
       "    .dataframe thead th {\n",
       "        text-align: right;\n",
       "    }\n",
       "</style>\n",
       "<table border=\"1\" class=\"dataframe\">\n",
       "  <thead>\n",
       "    <tr style=\"text-align: right;\">\n",
       "      <th></th>\n",
       "      <th>Attribute</th>\n",
       "      <th>Score</th>\n",
       "    </tr>\n",
       "  </thead>\n",
       "  <tbody>\n",
       "    <tr>\n",
       "      <th>8</th>\n",
       "      <td>8.0</td>\n",
       "      <td>0.305925</td>\n",
       "    </tr>\n",
       "    <tr>\n",
       "      <th>0</th>\n",
       "      <td>0.0</td>\n",
       "      <td>0.293502</td>\n",
       "    </tr>\n",
       "    <tr>\n",
       "      <th>14</th>\n",
       "      <td>14.0</td>\n",
       "      <td>0.278379</td>\n",
       "    </tr>\n",
       "    <tr>\n",
       "      <th>1</th>\n",
       "      <td>1.0</td>\n",
       "      <td>0.269676</td>\n",
       "    </tr>\n",
       "    <tr>\n",
       "      <th>13</th>\n",
       "      <td>13.0</td>\n",
       "      <td>0.267618</td>\n",
       "    </tr>\n",
       "    <tr>\n",
       "      <th>18</th>\n",
       "      <td>18.0</td>\n",
       "      <td>0.225182</td>\n",
       "    </tr>\n",
       "    <tr>\n",
       "      <th>10</th>\n",
       "      <td>10.0</td>\n",
       "      <td>0.217283</td>\n",
       "    </tr>\n",
       "    <tr>\n",
       "      <th>19</th>\n",
       "      <td>19.0</td>\n",
       "      <td>0.149536</td>\n",
       "    </tr>\n",
       "    <tr>\n",
       "      <th>11</th>\n",
       "      <td>11.0</td>\n",
       "      <td>0.103368</td>\n",
       "    </tr>\n",
       "    <tr>\n",
       "      <th>16</th>\n",
       "      <td>16.0</td>\n",
       "      <td>0.096095</td>\n",
       "    </tr>\n",
       "    <tr>\n",
       "      <th>25</th>\n",
       "      <td>25.0</td>\n",
       "      <td>0.075668</td>\n",
       "    </tr>\n",
       "    <tr>\n",
       "      <th>9</th>\n",
       "      <td>9.0</td>\n",
       "      <td>0.026057</td>\n",
       "    </tr>\n",
       "    <tr>\n",
       "      <th>20</th>\n",
       "      <td>20.0</td>\n",
       "      <td>-0.007592</td>\n",
       "    </tr>\n",
       "    <tr>\n",
       "      <th>2</th>\n",
       "      <td>2.0</td>\n",
       "      <td>-0.008576</td>\n",
       "    </tr>\n",
       "    <tr>\n",
       "      <th>3</th>\n",
       "      <td>3.0</td>\n",
       "      <td>-0.008589</td>\n",
       "    </tr>\n",
       "    <tr>\n",
       "      <th>24</th>\n",
       "      <td>24.0</td>\n",
       "      <td>-0.029066</td>\n",
       "    </tr>\n",
       "    <tr>\n",
       "      <th>15</th>\n",
       "      <td>15.0</td>\n",
       "      <td>-0.034162</td>\n",
       "    </tr>\n",
       "    <tr>\n",
       "      <th>6</th>\n",
       "      <td>6.0</td>\n",
       "      <td>-0.099104</td>\n",
       "    </tr>\n",
       "    <tr>\n",
       "      <th>12</th>\n",
       "      <td>12.0</td>\n",
       "      <td>-0.103368</td>\n",
       "    </tr>\n",
       "    <tr>\n",
       "      <th>5</th>\n",
       "      <td>5.0</td>\n",
       "      <td>-0.197251</td>\n",
       "    </tr>\n",
       "    <tr>\n",
       "      <th>17</th>\n",
       "      <td>17.0</td>\n",
       "      <td>-0.233437</td>\n",
       "    </tr>\n",
       "    <tr>\n",
       "      <th>22</th>\n",
       "      <td>22.0</td>\n",
       "      <td>-0.235140</td>\n",
       "    </tr>\n",
       "    <tr>\n",
       "      <th>26</th>\n",
       "      <td>26.0</td>\n",
       "      <td>-0.241415</td>\n",
       "    </tr>\n",
       "    <tr>\n",
       "      <th>4</th>\n",
       "      <td>4.0</td>\n",
       "      <td>-0.246684</td>\n",
       "    </tr>\n",
       "    <tr>\n",
       "      <th>7</th>\n",
       "      <td>7.0</td>\n",
       "      <td>-0.273383</td>\n",
       "    </tr>\n",
       "    <tr>\n",
       "      <th>23</th>\n",
       "      <td>23.0</td>\n",
       "      <td>-0.319500</td>\n",
       "    </tr>\n",
       "    <tr>\n",
       "      <th>21</th>\n",
       "      <td>21.0</td>\n",
       "      <td>-0.323824</td>\n",
       "    </tr>\n",
       "  </tbody>\n",
       "</table>\n",
       "</div>"
      ],
      "text/plain": [
       "    Attribute     Score\n",
       "8         8.0  0.305925\n",
       "0         0.0  0.293502\n",
       "14       14.0  0.278379\n",
       "1         1.0  0.269676\n",
       "13       13.0  0.267618\n",
       "18       18.0  0.225182\n",
       "10       10.0  0.217283\n",
       "19       19.0  0.149536\n",
       "11       11.0  0.103368\n",
       "16       16.0  0.096095\n",
       "25       25.0  0.075668\n",
       "9         9.0  0.026057\n",
       "20       20.0 -0.007592\n",
       "2         2.0 -0.008576\n",
       "3         3.0 -0.008589\n",
       "24       24.0 -0.029066\n",
       "15       15.0 -0.034162\n",
       "6         6.0 -0.099104\n",
       "12       12.0 -0.103368\n",
       "5         5.0 -0.197251\n",
       "17       17.0 -0.233437\n",
       "22       22.0 -0.235140\n",
       "26       26.0 -0.241415\n",
       "4         4.0 -0.246684\n",
       "7         7.0 -0.273383\n",
       "23       23.0 -0.319500\n",
       "21       21.0 -0.323824"
      ]
     },
     "execution_count": 17,
     "metadata": {},
     "output_type": "execute_result"
    }
   ],
   "source": [
    "bulk_correlation(x,y)"
   ]
  },
  {
   "cell_type": "markdown",
   "id": "03d978b1",
   "metadata": {
    "papermill": {
     "duration": 0.081122,
     "end_time": "2022-07-03T17:01:31.196040",
     "exception": false,
     "start_time": "2022-07-03T17:01:31.114918",
     "status": "completed"
    },
    "tags": []
   },
   "source": [
    "## Model training"
   ]
  },
  {
   "cell_type": "code",
   "execution_count": 18,
   "id": "2d412291",
   "metadata": {
    "execution": {
     "iopub.execute_input": "2022-07-03T17:01:31.361953Z",
     "iopub.status.busy": "2022-07-03T17:01:31.361238Z",
     "iopub.status.idle": "2022-07-03T17:01:31.507708Z",
     "shell.execute_reply": "2022-07-03T17:01:31.506569Z",
     "shell.execute_reply.started": "2022-05-04T13:00:03.64497Z"
    },
    "papermill": {
     "duration": 0.23233,
     "end_time": "2022-07-03T17:01:31.507867",
     "exception": false,
     "start_time": "2022-07-03T17:01:31.275537",
     "status": "completed"
    },
    "tags": []
   },
   "outputs": [],
   "source": [
    "from sklearn.model_selection import train_test_split, GridSearchCV, cross_val_score\n",
    "from sklearn.svm import SVC"
   ]
  },
  {
   "cell_type": "code",
   "execution_count": 19,
   "id": "8d76c627",
   "metadata": {
    "execution": {
     "iopub.execute_input": "2022-07-03T17:01:31.678494Z",
     "iopub.status.busy": "2022-07-03T17:01:31.677760Z",
     "iopub.status.idle": "2022-07-03T17:01:31.681631Z",
     "shell.execute_reply": "2022-07-03T17:01:31.681066Z",
     "shell.execute_reply.started": "2022-05-04T13:00:03.795819Z"
    },
    "papermill": {
     "duration": 0.093325,
     "end_time": "2022-07-03T17:01:31.681767",
     "exception": false,
     "start_time": "2022-07-03T17:01:31.588442",
     "status": "completed"
    },
    "tags": []
   },
   "outputs": [],
   "source": [
    "# Split data into training and testing sets\n",
    "x_train, x_test, y_train, y_test = train_test_split(x, y, random_state=10,test_size=0.20)"
   ]
  },
  {
   "cell_type": "code",
   "execution_count": 20,
   "id": "a6ac8693",
   "metadata": {
    "execution": {
     "iopub.execute_input": "2022-07-03T17:01:31.851894Z",
     "iopub.status.busy": "2022-07-03T17:01:31.851232Z",
     "iopub.status.idle": "2022-07-03T17:01:31.855503Z",
     "shell.execute_reply": "2022-07-03T17:01:31.854858Z",
     "shell.execute_reply.started": "2022-05-04T13:00:03.806891Z"
    },
    "papermill": {
     "duration": 0.094692,
     "end_time": "2022-07-03T17:01:31.855645",
     "exception": false,
     "start_time": "2022-07-03T17:01:31.760953",
     "status": "completed"
    },
    "tags": []
   },
   "outputs": [
    {
     "data": {
      "text/plain": [
       "1619    7\n",
       "1778    7\n",
       "1173    6\n",
       "1869    7\n",
       "299     2\n",
       "       ..\n",
       "87      1\n",
       "1394    7\n",
       "1160    6\n",
       "1586    7\n",
       "861     6\n",
       "Length: 381, dtype: int64"
      ]
     },
     "execution_count": 20,
     "metadata": {},
     "output_type": "execute_result"
    }
   ],
   "source": [
    "y_test"
   ]
  },
  {
   "cell_type": "code",
   "execution_count": 21,
   "id": "5268c772",
   "metadata": {
    "execution": {
     "iopub.execute_input": "2022-07-03T17:01:32.022068Z",
     "iopub.status.busy": "2022-07-03T17:01:32.021404Z",
     "iopub.status.idle": "2022-07-03T17:01:32.026561Z",
     "shell.execute_reply": "2022-07-03T17:01:32.025931Z",
     "shell.execute_reply.started": "2022-05-04T13:00:03.824132Z"
    },
    "papermill": {
     "duration": 0.08995,
     "end_time": "2022-07-03T17:01:32.026713",
     "exception": false,
     "start_time": "2022-07-03T17:01:31.936763",
     "status": "completed"
    },
    "tags": []
   },
   "outputs": [
    {
     "name": "stdout",
     "output_type": "stream",
     "text": [
      "x train(1520, 27)\n",
      "y train (1520,)\n",
      "x test(381, 27)\n",
      "y test(381,)\n"
     ]
    }
   ],
   "source": [
    "print(f'x train{x_train.shape}')\n",
    "print(f'y train {y_train.shape}')\n",
    "print(f'x test{x_test.shape}')\n",
    "print(f'y test{y_test.shape}')"
   ]
  },
  {
   "cell_type": "markdown",
   "id": "1052c5de",
   "metadata": {
    "papermill": {
     "duration": 0.080511,
     "end_time": "2022-07-03T17:01:32.190236",
     "exception": false,
     "start_time": "2022-07-03T17:01:32.109725",
     "status": "completed"
    },
    "tags": []
   },
   "source": [
    "### Model 1 | Base-model"
   ]
  },
  {
   "cell_type": "code",
   "execution_count": 22,
   "id": "6f3fd032",
   "metadata": {
    "execution": {
     "iopub.execute_input": "2022-07-03T17:01:32.360396Z",
     "iopub.status.busy": "2022-07-03T17:01:32.359553Z",
     "iopub.status.idle": "2022-07-03T17:02:24.350557Z",
     "shell.execute_reply": "2022-07-03T17:02:24.351075Z",
     "shell.execute_reply.started": "2022-05-04T13:00:03.835949Z"
    },
    "papermill": {
     "duration": 52.080865,
     "end_time": "2022-07-03T17:02:24.351279",
     "exception": false,
     "start_time": "2022-07-03T17:01:32.270414",
     "status": "completed"
    },
    "tags": []
   },
   "outputs": [
    {
     "data": {
      "text/plain": [
       "GridSearchCV(cv=10, estimator=SVC(),\n",
       "             param_grid={'C': [0.1, 1, 10, 20, 100],\n",
       "                         'gamma': [0.1, 1, 10, 100]},\n",
       "             return_train_score=True, scoring='accuracy')"
      ]
     },
     "execution_count": 22,
     "metadata": {},
     "output_type": "execute_result"
    }
   ],
   "source": [
    "svc = SVC(kernel='rbf')\n",
    "svc_paramenters = {'C':[0.1,1,10,20,100],\n",
    "                   'gamma':[0.1,1,10,100]}\n",
    "svm_model_1 = GridSearchCV(svc,param_grid=svc_paramenters,return_train_score=True,cv=10,scoring='accuracy')\n",
    "svm_model_1.fit(x_train,y_train)"
   ]
  },
  {
   "cell_type": "code",
   "execution_count": 23,
   "id": "c5c5c399",
   "metadata": {
    "execution": {
     "iopub.execute_input": "2022-07-03T17:02:24.525457Z",
     "iopub.status.busy": "2022-07-03T17:02:24.524701Z",
     "iopub.status.idle": "2022-07-03T17:02:24.528168Z",
     "shell.execute_reply": "2022-07-03T17:02:24.527511Z",
     "shell.execute_reply.started": "2022-05-04T13:00:55.291706Z"
    },
    "papermill": {
     "duration": 0.092684,
     "end_time": "2022-07-03T17:02:24.528314",
     "exception": false,
     "start_time": "2022-07-03T17:02:24.435630",
     "status": "completed"
    },
    "tags": []
   },
   "outputs": [
    {
     "name": "stdout",
     "output_type": "stream",
     "text": [
      "Best parameters{'C': 10, 'gamma': 1}\n",
      "Best score 0.7657894736842106\n"
     ]
    }
   ],
   "source": [
    "print(f'''Best parameters{svm_model_1.best_params_}\n",
    "Best score {svm_model_1.best_score_}''')"
   ]
  },
  {
   "cell_type": "markdown",
   "id": "56bbfa87",
   "metadata": {
    "papermill": {
     "duration": 0.084729,
     "end_time": "2022-07-03T17:02:24.694429",
     "exception": false,
     "start_time": "2022-07-03T17:02:24.609700",
     "status": "completed"
    },
    "tags": []
   },
   "source": [
    "### Results"
   ]
  },
  {
   "cell_type": "code",
   "execution_count": 24,
   "id": "2441e441",
   "metadata": {
    "execution": {
     "iopub.execute_input": "2022-07-03T17:02:24.860793Z",
     "iopub.status.busy": "2022-07-03T17:02:24.858989Z",
     "iopub.status.idle": "2022-07-03T17:02:24.863454Z",
     "shell.execute_reply": "2022-07-03T17:02:24.862891Z",
     "shell.execute_reply.started": "2022-05-04T13:00:55.299329Z"
    },
    "papermill": {
     "duration": 0.088172,
     "end_time": "2022-07-03T17:02:24.863603",
     "exception": false,
     "start_time": "2022-07-03T17:02:24.775431",
     "status": "completed"
    },
    "tags": []
   },
   "outputs": [],
   "source": [
    "from sklearn.metrics import plot_confusion_matrix"
   ]
  },
  {
   "cell_type": "code",
   "execution_count": 25,
   "id": "0ce6f3fb",
   "metadata": {
    "execution": {
     "iopub.execute_input": "2022-07-03T17:02:25.042974Z",
     "iopub.status.busy": "2022-07-03T17:02:25.042289Z",
     "iopub.status.idle": "2022-07-03T17:02:25.677029Z",
     "shell.execute_reply": "2022-07-03T17:02:25.677512Z",
     "shell.execute_reply.started": "2022-05-04T13:00:55.313925Z"
    },
    "papermill": {
     "duration": 0.729835,
     "end_time": "2022-07-03T17:02:25.677749",
     "exception": false,
     "start_time": "2022-07-03T17:02:24.947914",
     "status": "completed"
    },
    "tags": []
   },
   "outputs": [
    {
     "data": {
      "image/png": "[encoded data removed]",
      "text/plain": [
       "<Figure size 576x576 with 2 Axes>"
      ]
     },
     "metadata": {
      "needs_background": "light"
     },
     "output_type": "display_data"
    }
   ],
   "source": [
    "#plt.style.use('_classic_test_patch')\n",
    "fig, ax = plt.subplots(figsize=(8, 8))\n",
    "plot_confusion_matrix(svm_model_1,x_test,y_test,ax=ax)\n",
    "plt.savefig('base_model_confusion_matrix.png')\n",
    "plt.show()"
   ]
  },
  {
   "cell_type": "markdown",
   "id": "678ef3cd",
   "metadata": {
    "papermill": {
     "duration": 0.082613,
     "end_time": "2022-07-03T17:02:25.842476",
     "exception": false,
     "start_time": "2022-07-03T17:02:25.759863",
     "status": "completed"
    },
    "tags": []
   },
   "source": [
    "### Testing the accuracy of another machine learning algorthim"
   ]
  },
  {
   "cell_type": "code",
   "execution_count": 26,
   "id": "9f684609",
   "metadata": {
    "execution": {
     "iopub.execute_input": "2022-07-03T17:02:26.018622Z",
     "iopub.status.busy": "2022-07-03T17:02:26.017793Z",
     "iopub.status.idle": "2022-07-03T17:02:26.123242Z",
     "shell.execute_reply": "2022-07-03T17:02:26.122633Z",
     "shell.execute_reply.started": "2022-05-04T13:00:55.97916Z"
    },
    "papermill": {
     "duration": 0.196146,
     "end_time": "2022-07-03T17:02:26.123408",
     "exception": false,
     "start_time": "2022-07-03T17:02:25.927262",
     "status": "completed"
    },
    "tags": []
   },
   "outputs": [],
   "source": [
    "# Testing with a different algorithm\n",
    "from sklearn.tree import DecisionTreeClassifier"
   ]
  },
  {
   "cell_type": "code",
   "execution_count": 27,
   "id": "ad4550e1",
   "metadata": {
    "execution": {
     "iopub.execute_input": "2022-07-03T17:02:26.298955Z",
     "iopub.status.busy": "2022-07-03T17:02:26.297952Z",
     "iopub.status.idle": "2022-07-03T17:02:26.700747Z",
     "shell.execute_reply": "2022-07-03T17:02:26.701271Z",
     "shell.execute_reply.started": "2022-05-04T13:00:56.076124Z"
    },
    "papermill": {
     "duration": 0.495201,
     "end_time": "2022-07-03T17:02:26.701457",
     "exception": false,
     "start_time": "2022-07-03T17:02:26.206256",
     "status": "completed"
    },
    "tags": []
   },
   "outputs": [
    {
     "data": {
      "text/plain": [
       "0.7045525559305088"
      ]
     },
     "execution_count": 27,
     "metadata": {},
     "output_type": "execute_result"
    }
   ],
   "source": [
    "decision_tree_clf = DecisionTreeClassifier()\n",
    "decision_tree_scores = cross_val_score(decision_tree_clf, x_train, y_train, cv=12)\n",
    "decision_tree_clf.fit(x,y)\n",
    "decision_tree_scores.mean()"
   ]
  },
  {
   "cell_type": "markdown",
   "id": "13236147",
   "metadata": {
    "papermill": {
     "duration": 0.084567,
     "end_time": "2022-07-03T17:02:26.870438",
     "exception": false,
     "start_time": "2022-07-03T17:02:26.785871",
     "status": "completed"
    },
    "tags": []
   },
   "source": [
    "## Model 2 | Wihtout fault group 7"
   ]
  },
  {
   "cell_type": "code",
   "execution_count": 28,
   "id": "03ee8d95",
   "metadata": {
    "execution": {
     "iopub.execute_input": "2022-07-03T17:02:27.043477Z",
     "iopub.status.busy": "2022-07-03T17:02:27.042784Z",
     "iopub.status.idle": "2022-07-03T17:02:28.190538Z",
     "shell.execute_reply": "2022-07-03T17:02:28.189892Z",
     "shell.execute_reply.started": "2022-05-04T13:00:56.491542Z"
    },
    "papermill": {
     "duration": 1.235425,
     "end_time": "2022-07-03T17:02:28.190763",
     "exception": false,
     "start_time": "2022-07-03T17:02:26.955338",
     "status": "completed"
    },
    "tags": []
   },
   "outputs": [],
   "source": [
    "df = pd.read_excel('../input/steel-plates-fault-dataset/Steel Plates Fault Dataset.xlsx',header=None)"
   ]
  },
  {
   "cell_type": "code",
   "execution_count": 29,
   "id": "03b5de76",
   "metadata": {
    "execution": {
     "iopub.execute_input": "2022-07-03T17:02:28.374794Z",
     "iopub.status.busy": "2022-07-03T17:02:28.373640Z",
     "iopub.status.idle": "2022-07-03T17:02:28.378924Z",
     "shell.execute_reply": "2022-07-03T17:02:28.379913Z",
     "shell.execute_reply.started": "2022-05-04T13:00:57.599528Z"
    },
    "papermill": {
     "duration": 0.104708,
     "end_time": "2022-07-03T17:02:28.380199",
     "exception": false,
     "start_time": "2022-07-03T17:02:28.275491",
     "status": "completed"
    },
    "tags": []
   },
   "outputs": [],
   "source": [
    "# Remove fault group 7\n",
    "df = df.loc[df[33]!=1] # Remove smaples with fault group 7\n",
    "df = df.loc[:,:32] # Remove fault group 7\n",
    "df_x = df.loc[:,0:26]\n",
    "df_y = df.loc[:,27:32]"
   ]
  },
  {
   "cell_type": "code",
   "execution_count": 30,
   "id": "7b6caa83",
   "metadata": {
    "execution": {
     "iopub.execute_input": "2022-07-03T17:02:28.566267Z",
     "iopub.status.busy": "2022-07-03T17:02:28.565523Z",
     "iopub.status.idle": "2022-07-03T17:02:28.568936Z",
     "shell.execute_reply": "2022-07-03T17:02:28.568305Z",
     "shell.execute_reply.started": "2022-05-04T13:00:57.609849Z"
    },
    "papermill": {
     "duration": 0.094195,
     "end_time": "2022-07-03T17:02:28.569082",
     "exception": false,
     "start_time": "2022-07-03T17:02:28.474887",
     "status": "completed"
    },
    "tags": []
   },
   "outputs": [],
   "source": [
    "# Split the data into independant(x) and dependant(y) variables dataframes without group 7\n",
    "df_x = df.loc[:,0:26]\n",
    "df_y = df.loc[:,27:32]"
   ]
  },
  {
   "cell_type": "code",
   "execution_count": 31,
   "id": "30e35fce",
   "metadata": {
    "execution": {
     "iopub.execute_input": "2022-07-03T17:02:28.745188Z",
     "iopub.status.busy": "2022-07-03T17:02:28.744250Z",
     "iopub.status.idle": "2022-07-03T17:02:28.752480Z",
     "shell.execute_reply": "2022-07-03T17:02:28.751944Z",
     "shell.execute_reply.started": "2022-05-04T13:00:57.624506Z"
    },
    "papermill": {
     "duration": 0.098898,
     "end_time": "2022-07-03T17:02:28.752648",
     "exception": false,
     "start_time": "2022-07-03T17:02:28.653750",
     "status": "completed"
    },
    "tags": []
   },
   "outputs": [
    {
     "data": {
      "text/plain": [
       "(1233, 27)"
      ]
     },
     "execution_count": 31,
     "metadata": {},
     "output_type": "execute_result"
    }
   ],
   "source": [
    "scaler = MinMaxScaler()\n",
    "x = scaler.fit_transform(df_x)\n",
    "x.shape"
   ]
  },
  {
   "cell_type": "code",
   "execution_count": 32,
   "id": "db0fe01a",
   "metadata": {
    "execution": {
     "iopub.execute_input": "2022-07-03T17:02:28.932384Z",
     "iopub.status.busy": "2022-07-03T17:02:28.931681Z",
     "iopub.status.idle": "2022-07-03T17:02:28.940063Z",
     "shell.execute_reply": "2022-07-03T17:02:28.940580Z",
     "shell.execute_reply.started": "2022-05-04T13:00:57.642654Z"
    },
    "papermill": {
     "duration": 0.104096,
     "end_time": "2022-07-03T17:02:28.940785",
     "exception": false,
     "start_time": "2022-07-03T17:02:28.836689",
     "status": "completed"
    },
    "tags": []
   },
   "outputs": [],
   "source": [
    "# Split the labels into their own groups\n",
    "df_27 = df[27].loc[df[27]==1]\n",
    "df_28 = df[28].loc[df[28]==1]\n",
    "df_29 = df[29].loc[df[29]==1]\n",
    "df_30 = df[30].loc[df[30]==1]\n",
    "df_31 = df[31].loc[df[31]==1]\n",
    "df_32 = df[32].loc[df[32]==1]\n",
    "\n",
    "# Change the labling to 1 to 6 that corresponds to labels from 27 to 32\n",
    "df_28 = df_28.where(df_28!=1, 2,axis=0)\n",
    "df_29 = df_29.where(df_29!=1, 3,axis=0)\n",
    "df_30 = df_30.where(df_30!=1, 4,axis=0)\n",
    "df_31 = df_31.where(df_31!=1, 5,axis=0)\n",
    "df_32 = df_32.where(df_32!=1, 6,axis=0)\n",
    "frames = [df_27,df_28,df_29,df_30,df_31,df_32]\n",
    "y = pd.concat(frames)"
   ]
  },
  {
   "cell_type": "code",
   "execution_count": 33,
   "id": "4a5606b7",
   "metadata": {
    "execution": {
     "iopub.execute_input": "2022-07-03T17:02:29.115926Z",
     "iopub.status.busy": "2022-07-03T17:02:29.115216Z",
     "iopub.status.idle": "2022-07-03T17:02:29.119179Z",
     "shell.execute_reply": "2022-07-03T17:02:29.119769Z",
     "shell.execute_reply.started": "2022-05-04T13:00:57.662159Z"
    },
    "papermill": {
     "duration": 0.094435,
     "end_time": "2022-07-03T17:02:29.119949",
     "exception": false,
     "start_time": "2022-07-03T17:02:29.025514",
     "status": "completed"
    },
    "tags": []
   },
   "outputs": [],
   "source": [
    "x_train, x_test, y_train, y_test = train_test_split(x, y, random_state=10,test_size=0.20)"
   ]
  },
  {
   "cell_type": "code",
   "execution_count": 34,
   "id": "42dd1d50",
   "metadata": {
    "execution": {
     "iopub.execute_input": "2022-07-03T17:02:29.294427Z",
     "iopub.status.busy": "2022-07-03T17:02:29.292738Z",
     "iopub.status.idle": "2022-07-03T17:02:47.483335Z",
     "shell.execute_reply": "2022-07-03T17:02:47.482637Z",
     "shell.execute_reply.started": "2022-05-04T13:00:57.677087Z"
    },
    "papermill": {
     "duration": 18.279942,
     "end_time": "2022-07-03T17:02:47.483481",
     "exception": false,
     "start_time": "2022-07-03T17:02:29.203539",
     "status": "completed"
    },
    "tags": []
   },
   "outputs": [
    {
     "data": {
      "text/plain": [
       "GridSearchCV(cv=10, estimator=SVC(),\n",
       "             param_grid={'C': [0.1, 1, 10, 20, 100],\n",
       "                         'gamma': [0.1, 1, 10, 100]},\n",
       "             return_train_score=True, scoring='accuracy')"
      ]
     },
     "execution_count": 34,
     "metadata": {},
     "output_type": "execute_result"
    }
   ],
   "source": [
    "svc = SVC(kernel='rbf')\n",
    "svc_paramenters = {'C':[0.1,1,10,20,100],\n",
    "                   'gamma':[0.1,1,10,100]}\n",
    "svm_model_2 = GridSearchCV(svc,param_grid=svc_paramenters,return_train_score=True,cv=10,scoring='accuracy')\n",
    "svm_model_2.fit(x_train,y_train)"
   ]
  },
  {
   "cell_type": "code",
   "execution_count": 35,
   "id": "d07f08b9",
   "metadata": {
    "execution": {
     "iopub.execute_input": "2022-07-03T17:02:47.661540Z",
     "iopub.status.busy": "2022-07-03T17:02:47.660800Z",
     "iopub.status.idle": "2022-07-03T17:02:47.665777Z",
     "shell.execute_reply": "2022-07-03T17:02:47.666340Z",
     "shell.execute_reply.started": "2022-05-04T13:01:15.872992Z"
    },
    "papermill": {
     "duration": 0.095723,
     "end_time": "2022-07-03T17:02:47.666596",
     "exception": false,
     "start_time": "2022-07-03T17:02:47.570873",
     "status": "completed"
    },
    "tags": []
   },
   "outputs": [
    {
     "name": "stdout",
     "output_type": "stream",
     "text": [
      "Best parameters{'C': 10, 'gamma': 1}\n",
      "Best score 0.9005875077303648\n"
     ]
    }
   ],
   "source": [
    "print(f'''Best parameters{svm_model_2.best_params_}\n",
    "Best score {svm_model_2.best_score_}''')"
   ]
  },
  {
   "cell_type": "markdown",
   "id": "a36aab8d",
   "metadata": {
    "papermill": {
     "duration": 0.083487,
     "end_time": "2022-07-03T17:02:47.837757",
     "exception": false,
     "start_time": "2022-07-03T17:02:47.754270",
     "status": "completed"
    },
    "tags": []
   },
   "source": [
    "### Results"
   ]
  },
  {
   "cell_type": "code",
   "execution_count": 36,
   "id": "a81ec803",
   "metadata": {
    "execution": {
     "iopub.execute_input": "2022-07-03T17:02:48.035843Z",
     "iopub.status.busy": "2022-07-03T17:02:48.034156Z",
     "iopub.status.idle": "2022-07-03T17:02:48.665315Z",
     "shell.execute_reply": "2022-07-03T17:02:48.665762Z",
     "shell.execute_reply.started": "2022-05-04T13:01:15.880388Z"
    },
    "papermill": {
     "duration": 0.742653,
     "end_time": "2022-07-03T17:02:48.665933",
     "exception": false,
     "start_time": "2022-07-03T17:02:47.923280",
     "status": "completed"
    },
    "tags": []
   },
   "outputs": [
    {
     "data": {
      "image/png": "[encoded data removed]",
      "text/plain": [
       "<Figure size 576x576 with 2 Axes>"
      ]
     },
     "metadata": {
      "needs_background": "light"
     },
     "output_type": "display_data"
    }
   ],
   "source": [
    "fig, ax = plt.subplots(figsize=(8, 8))\n",
    "plot_confusion_matrix(svm_model_2,x_test,y_test,ax=ax)\n",
    "plt.savefig('model_2_confusion_matrix.png')\n",
    "plt.show()"
   ]
  },
  {
   "cell_type": "markdown",
   "id": "a61170bb",
   "metadata": {
    "papermill": {
     "duration": 0.083512,
     "end_time": "2022-07-03T17:02:48.833021",
     "exception": false,
     "start_time": "2022-07-03T17:02:48.749509",
     "status": "completed"
    },
    "tags": []
   },
   "source": [
    "### Model 3 | Binary classification for fault Group 7 "
   ]
  },
  {
   "cell_type": "code",
   "execution_count": 37,
   "id": "ba6f2c22",
   "metadata": {
    "execution": {
     "iopub.execute_input": "2022-07-03T17:02:49.011666Z",
     "iopub.status.busy": "2022-07-03T17:02:49.010658Z",
     "iopub.status.idle": "2022-07-03T17:02:50.137028Z",
     "shell.execute_reply": "2022-07-03T17:02:50.135722Z",
     "shell.execute_reply.started": "2022-05-04T13:01:16.416386Z"
    },
    "papermill": {
     "duration": 1.216236,
     "end_time": "2022-07-03T17:02:50.137208",
     "exception": false,
     "start_time": "2022-07-03T17:02:48.920972",
     "status": "completed"
    },
    "tags": []
   },
   "outputs": [],
   "source": [
    "df = pd.read_excel('../input/steel-plates-fault-dataset/Steel Plates Fault Dataset.xlsx',header=None)"
   ]
  },
  {
   "cell_type": "code",
   "execution_count": 38,
   "id": "9f1b2219",
   "metadata": {
    "execution": {
     "iopub.execute_input": "2022-07-03T17:02:50.314903Z",
     "iopub.status.busy": "2022-07-03T17:02:50.313893Z",
     "iopub.status.idle": "2022-07-03T17:02:50.354886Z",
     "shell.execute_reply": "2022-07-03T17:02:50.355506Z",
     "shell.execute_reply.started": "2022-05-04T13:01:17.679793Z"
    },
    "papermill": {
     "duration": 0.132845,
     "end_time": "2022-07-03T17:02:50.355691",
     "exception": false,
     "start_time": "2022-07-03T17:02:50.222846",
     "status": "completed"
    },
    "tags": []
   },
   "outputs": [
    {
     "data": {
      "text/html": [
       "<div>\n",
       "<style scoped>\n",
       "    .dataframe tbody tr th:only-of-type {\n",
       "        vertical-align: middle;\n",
       "    }\n",
       "\n",
       "    .dataframe tbody tr th {\n",
       "        vertical-align: top;\n",
       "    }\n",
       "\n",
       "    .dataframe thead th {\n",
       "        text-align: right;\n",
       "    }\n",
       "</style>\n",
       "<table border=\"1\" class=\"dataframe\">\n",
       "  <thead>\n",
       "    <tr style=\"text-align: right;\">\n",
       "      <th></th>\n",
       "      <th>0</th>\n",
       "      <th>1</th>\n",
       "      <th>2</th>\n",
       "      <th>3</th>\n",
       "      <th>4</th>\n",
       "      <th>5</th>\n",
       "      <th>6</th>\n",
       "      <th>7</th>\n",
       "      <th>8</th>\n",
       "      <th>9</th>\n",
       "      <th>10</th>\n",
       "      <th>11</th>\n",
       "      <th>12</th>\n",
       "      <th>13</th>\n",
       "      <th>14</th>\n",
       "      <th>15</th>\n",
       "      <th>16</th>\n",
       "      <th>17</th>\n",
       "      <th>18</th>\n",
       "      <th>19</th>\n",
       "      <th>20</th>\n",
       "      <th>21</th>\n",
       "      <th>22</th>\n",
       "      <th>23</th>\n",
       "      <th>24</th>\n",
       "      <th>25</th>\n",
       "      <th>26</th>\n",
       "      <th>33</th>\n",
       "    </tr>\n",
       "  </thead>\n",
       "  <tbody>\n",
       "    <tr>\n",
       "      <th>0</th>\n",
       "      <td>42</td>\n",
       "      <td>50</td>\n",
       "      <td>270900</td>\n",
       "      <td>270944</td>\n",
       "      <td>267</td>\n",
       "      <td>17</td>\n",
       "      <td>44</td>\n",
       "      <td>24220</td>\n",
       "      <td>76</td>\n",
       "      <td>108</td>\n",
       "      <td>1687</td>\n",
       "      <td>1</td>\n",
       "      <td>0</td>\n",
       "      <td>80</td>\n",
       "      <td>0.0498</td>\n",
       "      <td>0.2415</td>\n",
       "      <td>0.1818</td>\n",
       "      <td>0.0047</td>\n",
       "      <td>0.4706</td>\n",
       "      <td>1.0000</td>\n",
       "      <td>1.0</td>\n",
       "      <td>2.4265</td>\n",
       "      <td>0.9031</td>\n",
       "      <td>1.6435</td>\n",
       "      <td>0.8182</td>\n",
       "      <td>-0.2913</td>\n",
       "      <td>0.5822</td>\n",
       "      <td>0</td>\n",
       "    </tr>\n",
       "    <tr>\n",
       "      <th>1</th>\n",
       "      <td>645</td>\n",
       "      <td>651</td>\n",
       "      <td>2538079</td>\n",
       "      <td>2538108</td>\n",
       "      <td>108</td>\n",
       "      <td>10</td>\n",
       "      <td>30</td>\n",
       "      <td>11397</td>\n",
       "      <td>84</td>\n",
       "      <td>123</td>\n",
       "      <td>1687</td>\n",
       "      <td>1</td>\n",
       "      <td>0</td>\n",
       "      <td>80</td>\n",
       "      <td>0.7647</td>\n",
       "      <td>0.3793</td>\n",
       "      <td>0.2069</td>\n",
       "      <td>0.0036</td>\n",
       "      <td>0.6000</td>\n",
       "      <td>0.9667</td>\n",
       "      <td>1.0</td>\n",
       "      <td>2.0334</td>\n",
       "      <td>0.7782</td>\n",
       "      <td>1.4624</td>\n",
       "      <td>0.7931</td>\n",
       "      <td>-0.1756</td>\n",
       "      <td>0.2984</td>\n",
       "      <td>0</td>\n",
       "    </tr>\n",
       "    <tr>\n",
       "      <th>2</th>\n",
       "      <td>829</td>\n",
       "      <td>835</td>\n",
       "      <td>1553913</td>\n",
       "      <td>1553931</td>\n",
       "      <td>71</td>\n",
       "      <td>8</td>\n",
       "      <td>19</td>\n",
       "      <td>7972</td>\n",
       "      <td>99</td>\n",
       "      <td>125</td>\n",
       "      <td>1623</td>\n",
       "      <td>1</td>\n",
       "      <td>0</td>\n",
       "      <td>100</td>\n",
       "      <td>0.9710</td>\n",
       "      <td>0.3426</td>\n",
       "      <td>0.3333</td>\n",
       "      <td>0.0037</td>\n",
       "      <td>0.7500</td>\n",
       "      <td>0.9474</td>\n",
       "      <td>1.0</td>\n",
       "      <td>1.8513</td>\n",
       "      <td>0.7782</td>\n",
       "      <td>1.2553</td>\n",
       "      <td>0.6667</td>\n",
       "      <td>-0.1228</td>\n",
       "      <td>0.2150</td>\n",
       "      <td>0</td>\n",
       "    </tr>\n",
       "    <tr>\n",
       "      <th>3</th>\n",
       "      <td>853</td>\n",
       "      <td>860</td>\n",
       "      <td>369370</td>\n",
       "      <td>369415</td>\n",
       "      <td>176</td>\n",
       "      <td>13</td>\n",
       "      <td>45</td>\n",
       "      <td>18996</td>\n",
       "      <td>99</td>\n",
       "      <td>126</td>\n",
       "      <td>1353</td>\n",
       "      <td>0</td>\n",
       "      <td>1</td>\n",
       "      <td>290</td>\n",
       "      <td>0.7287</td>\n",
       "      <td>0.4413</td>\n",
       "      <td>0.1556</td>\n",
       "      <td>0.0052</td>\n",
       "      <td>0.5385</td>\n",
       "      <td>1.0000</td>\n",
       "      <td>1.0</td>\n",
       "      <td>2.2455</td>\n",
       "      <td>0.8451</td>\n",
       "      <td>1.6532</td>\n",
       "      <td>0.8444</td>\n",
       "      <td>-0.1568</td>\n",
       "      <td>0.5212</td>\n",
       "      <td>0</td>\n",
       "    </tr>\n",
       "    <tr>\n",
       "      <th>4</th>\n",
       "      <td>1289</td>\n",
       "      <td>1306</td>\n",
       "      <td>498078</td>\n",
       "      <td>498335</td>\n",
       "      <td>2409</td>\n",
       "      <td>60</td>\n",
       "      <td>260</td>\n",
       "      <td>246930</td>\n",
       "      <td>37</td>\n",
       "      <td>126</td>\n",
       "      <td>1353</td>\n",
       "      <td>0</td>\n",
       "      <td>1</td>\n",
       "      <td>185</td>\n",
       "      <td>0.0695</td>\n",
       "      <td>0.4486</td>\n",
       "      <td>0.0662</td>\n",
       "      <td>0.0126</td>\n",
       "      <td>0.2833</td>\n",
       "      <td>0.9885</td>\n",
       "      <td>1.0</td>\n",
       "      <td>3.3818</td>\n",
       "      <td>1.2305</td>\n",
       "      <td>2.4099</td>\n",
       "      <td>0.9338</td>\n",
       "      <td>-0.1992</td>\n",
       "      <td>1.0000</td>\n",
       "      <td>0</td>\n",
       "    </tr>\n",
       "    <tr>\n",
       "      <th>...</th>\n",
       "      <td>...</td>\n",
       "      <td>...</td>\n",
       "      <td>...</td>\n",
       "      <td>...</td>\n",
       "      <td>...</td>\n",
       "      <td>...</td>\n",
       "      <td>...</td>\n",
       "      <td>...</td>\n",
       "      <td>...</td>\n",
       "      <td>...</td>\n",
       "      <td>...</td>\n",
       "      <td>...</td>\n",
       "      <td>...</td>\n",
       "      <td>...</td>\n",
       "      <td>...</td>\n",
       "      <td>...</td>\n",
       "      <td>...</td>\n",
       "      <td>...</td>\n",
       "      <td>...</td>\n",
       "      <td>...</td>\n",
       "      <td>...</td>\n",
       "      <td>...</td>\n",
       "      <td>...</td>\n",
       "      <td>...</td>\n",
       "      <td>...</td>\n",
       "      <td>...</td>\n",
       "      <td>...</td>\n",
       "      <td>...</td>\n",
       "    </tr>\n",
       "    <tr>\n",
       "      <th>1896</th>\n",
       "      <td>249</td>\n",
       "      <td>277</td>\n",
       "      <td>325780</td>\n",
       "      <td>325796</td>\n",
       "      <td>273</td>\n",
       "      <td>54</td>\n",
       "      <td>22</td>\n",
       "      <td>35033</td>\n",
       "      <td>119</td>\n",
       "      <td>141</td>\n",
       "      <td>1360</td>\n",
       "      <td>0</td>\n",
       "      <td>1</td>\n",
       "      <td>40</td>\n",
       "      <td>0.3662</td>\n",
       "      <td>0.3906</td>\n",
       "      <td>0.5714</td>\n",
       "      <td>0.0206</td>\n",
       "      <td>0.5185</td>\n",
       "      <td>0.7273</td>\n",
       "      <td>0.0</td>\n",
       "      <td>2.4362</td>\n",
       "      <td>1.4472</td>\n",
       "      <td>1.2041</td>\n",
       "      <td>-0.4286</td>\n",
       "      <td>0.0026</td>\n",
       "      <td>0.7254</td>\n",
       "      <td>1</td>\n",
       "    </tr>\n",
       "    <tr>\n",
       "      <th>1897</th>\n",
       "      <td>144</td>\n",
       "      <td>175</td>\n",
       "      <td>340581</td>\n",
       "      <td>340598</td>\n",
       "      <td>287</td>\n",
       "      <td>44</td>\n",
       "      <td>24</td>\n",
       "      <td>34599</td>\n",
       "      <td>112</td>\n",
       "      <td>133</td>\n",
       "      <td>1360</td>\n",
       "      <td>0</td>\n",
       "      <td>1</td>\n",
       "      <td>40</td>\n",
       "      <td>0.2118</td>\n",
       "      <td>0.4554</td>\n",
       "      <td>0.5484</td>\n",
       "      <td>0.0228</td>\n",
       "      <td>0.7046</td>\n",
       "      <td>0.7083</td>\n",
       "      <td>0.0</td>\n",
       "      <td>2.4579</td>\n",
       "      <td>1.4914</td>\n",
       "      <td>1.2305</td>\n",
       "      <td>-0.4516</td>\n",
       "      <td>-0.0582</td>\n",
       "      <td>0.8173</td>\n",
       "      <td>1</td>\n",
       "    </tr>\n",
       "    <tr>\n",
       "      <th>1898</th>\n",
       "      <td>145</td>\n",
       "      <td>174</td>\n",
       "      <td>386779</td>\n",
       "      <td>386794</td>\n",
       "      <td>292</td>\n",
       "      <td>40</td>\n",
       "      <td>22</td>\n",
       "      <td>37572</td>\n",
       "      <td>120</td>\n",
       "      <td>140</td>\n",
       "      <td>1360</td>\n",
       "      <td>0</td>\n",
       "      <td>1</td>\n",
       "      <td>40</td>\n",
       "      <td>0.2132</td>\n",
       "      <td>0.3287</td>\n",
       "      <td>0.5172</td>\n",
       "      <td>0.0213</td>\n",
       "      <td>0.7250</td>\n",
       "      <td>0.6818</td>\n",
       "      <td>0.0</td>\n",
       "      <td>2.4654</td>\n",
       "      <td>1.4624</td>\n",
       "      <td>1.1761</td>\n",
       "      <td>-0.4828</td>\n",
       "      <td>0.0052</td>\n",
       "      <td>0.7079</td>\n",
       "      <td>1</td>\n",
       "    </tr>\n",
       "    <tr>\n",
       "      <th>1899</th>\n",
       "      <td>137</td>\n",
       "      <td>170</td>\n",
       "      <td>422497</td>\n",
       "      <td>422528</td>\n",
       "      <td>419</td>\n",
       "      <td>97</td>\n",
       "      <td>47</td>\n",
       "      <td>52715</td>\n",
       "      <td>117</td>\n",
       "      <td>140</td>\n",
       "      <td>1360</td>\n",
       "      <td>0</td>\n",
       "      <td>1</td>\n",
       "      <td>40</td>\n",
       "      <td>0.2015</td>\n",
       "      <td>0.5904</td>\n",
       "      <td>0.9394</td>\n",
       "      <td>0.0243</td>\n",
       "      <td>0.3402</td>\n",
       "      <td>0.6596</td>\n",
       "      <td>0.0</td>\n",
       "      <td>2.6222</td>\n",
       "      <td>1.5185</td>\n",
       "      <td>1.4914</td>\n",
       "      <td>-0.0606</td>\n",
       "      <td>-0.0171</td>\n",
       "      <td>0.9919</td>\n",
       "      <td>1</td>\n",
       "    </tr>\n",
       "    <tr>\n",
       "      <th>1900</th>\n",
       "      <td>1261</td>\n",
       "      <td>1281</td>\n",
       "      <td>87951</td>\n",
       "      <td>87967</td>\n",
       "      <td>103</td>\n",
       "      <td>26</td>\n",
       "      <td>22</td>\n",
       "      <td>11682</td>\n",
       "      <td>101</td>\n",
       "      <td>133</td>\n",
       "      <td>1360</td>\n",
       "      <td>1</td>\n",
       "      <td>0</td>\n",
       "      <td>80</td>\n",
       "      <td>0.1162</td>\n",
       "      <td>0.6781</td>\n",
       "      <td>0.8000</td>\n",
       "      <td>0.0147</td>\n",
       "      <td>0.7692</td>\n",
       "      <td>0.7273</td>\n",
       "      <td>0.0</td>\n",
       "      <td>2.0128</td>\n",
       "      <td>1.3010</td>\n",
       "      <td>1.2041</td>\n",
       "      <td>-0.2000</td>\n",
       "      <td>-0.1139</td>\n",
       "      <td>0.5296</td>\n",
       "      <td>1</td>\n",
       "    </tr>\n",
       "  </tbody>\n",
       "</table>\n",
       "<p>1901 rows × 28 columns</p>\n",
       "</div>"
      ],
      "text/plain": [
       "        0     1        2        3     4   5    6       7    8    9     10  11  \\\n",
       "0       42    50   270900   270944   267  17   44   24220   76  108  1687   1   \n",
       "1      645   651  2538079  2538108   108  10   30   11397   84  123  1687   1   \n",
       "2      829   835  1553913  1553931    71   8   19    7972   99  125  1623   1   \n",
       "3      853   860   369370   369415   176  13   45   18996   99  126  1353   0   \n",
       "4     1289  1306   498078   498335  2409  60  260  246930   37  126  1353   0   \n",
       "...    ...   ...      ...      ...   ...  ..  ...     ...  ...  ...   ...  ..   \n",
       "1896   249   277   325780   325796   273  54   22   35033  119  141  1360   0   \n",
       "1897   144   175   340581   340598   287  44   24   34599  112  133  1360   0   \n",
       "1898   145   174   386779   386794   292  40   22   37572  120  140  1360   0   \n",
       "1899   137   170   422497   422528   419  97   47   52715  117  140  1360   0   \n",
       "1900  1261  1281    87951    87967   103  26   22   11682  101  133  1360   1   \n",
       "\n",
       "      12   13      14      15      16      17      18      19   20      21  \\\n",
       "0      0   80  0.0498  0.2415  0.1818  0.0047  0.4706  1.0000  1.0  2.4265   \n",
       "1      0   80  0.7647  0.3793  0.2069  0.0036  0.6000  0.9667  1.0  2.0334   \n",
       "2      0  100  0.9710  0.3426  0.3333  0.0037  0.7500  0.9474  1.0  1.8513   \n",
       "3      1  290  0.7287  0.4413  0.1556  0.0052  0.5385  1.0000  1.0  2.2455   \n",
       "4      1  185  0.0695  0.4486  0.0662  0.0126  0.2833  0.9885  1.0  3.3818   \n",
       "...   ..  ...     ...     ...     ...     ...     ...     ...  ...     ...   \n",
       "1896   1   40  0.3662  0.3906  0.5714  0.0206  0.5185  0.7273  0.0  2.4362   \n",
       "1897   1   40  0.2118  0.4554  0.5484  0.0228  0.7046  0.7083  0.0  2.4579   \n",
       "1898   1   40  0.2132  0.3287  0.5172  0.0213  0.7250  0.6818  0.0  2.4654   \n",
       "1899   1   40  0.2015  0.5904  0.9394  0.0243  0.3402  0.6596  0.0  2.6222   \n",
       "1900   0   80  0.1162  0.6781  0.8000  0.0147  0.7692  0.7273  0.0  2.0128   \n",
       "\n",
       "          22      23      24      25      26  33  \n",
       "0     0.9031  1.6435  0.8182 -0.2913  0.5822   0  \n",
       "1     0.7782  1.4624  0.7931 -0.1756  0.2984   0  \n",
       "2     0.7782  1.2553  0.6667 -0.1228  0.2150   0  \n",
       "3     0.8451  1.6532  0.8444 -0.1568  0.5212   0  \n",
       "4     1.2305  2.4099  0.9338 -0.1992  1.0000   0  \n",
       "...      ...     ...     ...     ...     ...  ..  \n",
       "1896  1.4472  1.2041 -0.4286  0.0026  0.7254   1  \n",
       "1897  1.4914  1.2305 -0.4516 -0.0582  0.8173   1  \n",
       "1898  1.4624  1.1761 -0.4828  0.0052  0.7079   1  \n",
       "1899  1.5185  1.4914 -0.0606 -0.0171  0.9919   1  \n",
       "1900  1.3010  1.2041 -0.2000 -0.1139  0.5296   1  \n",
       "\n",
       "[1901 rows x 28 columns]"
      ]
     },
     "execution_count": 38,
     "metadata": {},
     "output_type": "execute_result"
    }
   ],
   "source": [
    "df = df.drop(columns=[27,28,29,30,31,32])\n",
    "df"
   ]
  },
  {
   "cell_type": "code",
   "execution_count": 39,
   "id": "53dc9ece",
   "metadata": {
    "execution": {
     "iopub.execute_input": "2022-07-03T17:02:50.556440Z",
     "iopub.status.busy": "2022-07-03T17:02:50.555721Z",
     "iopub.status.idle": "2022-07-03T17:02:50.558234Z",
     "shell.execute_reply": "2022-07-03T17:02:50.558715Z",
     "shell.execute_reply.started": "2022-05-04T13:01:17.71855Z"
    },
    "papermill": {
     "duration": 0.095338,
     "end_time": "2022-07-03T17:02:50.558888",
     "exception": false,
     "start_time": "2022-07-03T17:02:50.463550",
     "status": "completed"
    },
    "tags": []
   },
   "outputs": [
    {
     "data": {
      "text/plain": [
       "0    1233\n",
       "1     668\n",
       "Name: 33, dtype: int64"
      ]
     },
     "execution_count": 39,
     "metadata": {},
     "output_type": "execute_result"
    }
   ],
   "source": [
    "df[33].value_counts()"
   ]
  },
  {
   "cell_type": "code",
   "execution_count": 40,
   "id": "4aa966e8",
   "metadata": {
    "execution": {
     "iopub.execute_input": "2022-07-03T17:02:50.735568Z",
     "iopub.status.busy": "2022-07-03T17:02:50.734771Z",
     "iopub.status.idle": "2022-07-03T17:02:50.743591Z",
     "shell.execute_reply": "2022-07-03T17:02:50.744180Z",
     "shell.execute_reply.started": "2022-05-04T13:01:17.727667Z"
    },
    "papermill": {
     "duration": 0.099334,
     "end_time": "2022-07-03T17:02:50.744354",
     "exception": false,
     "start_time": "2022-07-03T17:02:50.645020",
     "status": "completed"
    },
    "tags": []
   },
   "outputs": [],
   "source": [
    "df_x = df.loc[:,:26]\n",
    "y = df.loc[:,32:33]"
   ]
  },
  {
   "cell_type": "code",
   "execution_count": 41,
   "id": "cec5fcb4",
   "metadata": {
    "execution": {
     "iopub.execute_input": "2022-07-03T17:02:50.919399Z",
     "iopub.status.busy": "2022-07-03T17:02:50.918764Z",
     "iopub.status.idle": "2022-07-03T17:02:50.926436Z",
     "shell.execute_reply": "2022-07-03T17:02:50.926957Z",
     "shell.execute_reply.started": "2022-05-04T13:01:17.744312Z"
    },
    "papermill": {
     "duration": 0.096326,
     "end_time": "2022-07-03T17:02:50.927147",
     "exception": false,
     "start_time": "2022-07-03T17:02:50.830821",
     "status": "completed"
    },
    "tags": []
   },
   "outputs": [],
   "source": [
    "scaler = MinMaxScaler()\n",
    "x = scaler.fit_transform(df_x)"
   ]
  },
  {
   "cell_type": "code",
   "execution_count": 42,
   "id": "f29d7046",
   "metadata": {
    "execution": {
     "iopub.execute_input": "2022-07-03T17:02:51.106892Z",
     "iopub.status.busy": "2022-07-03T17:02:51.106218Z",
     "iopub.status.idle": "2022-07-03T17:02:51.110828Z",
     "shell.execute_reply": "2022-07-03T17:02:51.111343Z",
     "shell.execute_reply.started": "2022-05-04T13:01:17.760815Z"
    },
    "papermill": {
     "duration": 0.096051,
     "end_time": "2022-07-03T17:02:51.111515",
     "exception": false,
     "start_time": "2022-07-03T17:02:51.015464",
     "status": "completed"
    },
    "tags": []
   },
   "outputs": [
    {
     "data": {
      "text/plain": [
       "((1901, 27), (1901, 1))"
      ]
     },
     "execution_count": 42,
     "metadata": {},
     "output_type": "execute_result"
    }
   ],
   "source": [
    "x.shape, y.shape"
   ]
  },
  {
   "cell_type": "code",
   "execution_count": 43,
   "id": "99e994d2",
   "metadata": {
    "execution": {
     "iopub.execute_input": "2022-07-03T17:02:51.289910Z",
     "iopub.status.busy": "2022-07-03T17:02:51.289291Z",
     "iopub.status.idle": "2022-07-03T17:02:51.297254Z",
     "shell.execute_reply": "2022-07-03T17:02:51.296606Z",
     "shell.execute_reply.started": "2022-05-04T13:01:17.770028Z"
    },
    "papermill": {
     "duration": 0.098743,
     "end_time": "2022-07-03T17:02:51.297394",
     "exception": false,
     "start_time": "2022-07-03T17:02:51.198651",
     "status": "completed"
    },
    "tags": []
   },
   "outputs": [
    {
     "data": {
      "text/plain": [
       "33\n",
       "0     1233\n",
       "1      668\n",
       "dtype: int64"
      ]
     },
     "execution_count": 43,
     "metadata": {},
     "output_type": "execute_result"
    }
   ],
   "source": [
    "y.value_counts()"
   ]
  },
  {
   "cell_type": "code",
   "execution_count": 44,
   "id": "e7a17ad0",
   "metadata": {
    "execution": {
     "iopub.execute_input": "2022-07-03T17:02:51.475593Z",
     "iopub.status.busy": "2022-07-03T17:02:51.474900Z",
     "iopub.status.idle": "2022-07-03T17:02:51.494584Z",
     "shell.execute_reply": "2022-07-03T17:02:51.495181Z",
     "shell.execute_reply.started": "2022-05-04T13:01:17.789475Z"
    },
    "papermill": {
     "duration": 0.109691,
     "end_time": "2022-07-03T17:02:51.495360",
     "exception": false,
     "start_time": "2022-07-03T17:02:51.385669",
     "status": "completed"
    },
    "tags": []
   },
   "outputs": [],
   "source": [
    "x_train, x_test, y_train, y_test = train_test_split(x, y, random_state=10,test_size=0.20,stratify=y)"
   ]
  },
  {
   "cell_type": "code",
   "execution_count": 45,
   "id": "52b15b01",
   "metadata": {
    "execution": {
     "iopub.execute_input": "2022-07-03T17:02:51.673549Z",
     "iopub.status.busy": "2022-07-03T17:02:51.672841Z",
     "iopub.status.idle": "2022-07-03T17:02:51.676217Z",
     "shell.execute_reply": "2022-07-03T17:02:51.676793Z",
     "shell.execute_reply.started": "2022-05-04T13:01:17.81268Z"
    },
    "papermill": {
     "duration": 0.093249,
     "end_time": "2022-07-03T17:02:51.676975",
     "exception": false,
     "start_time": "2022-07-03T17:02:51.583726",
     "status": "completed"
    },
    "tags": []
   },
   "outputs": [],
   "source": [
    "y_train = np.ravel(y_train)"
   ]
  },
  {
   "cell_type": "code",
   "execution_count": 46,
   "id": "5cf26a7f",
   "metadata": {
    "execution": {
     "iopub.execute_input": "2022-07-03T17:02:51.854967Z",
     "iopub.status.busy": "2022-07-03T17:02:51.853985Z",
     "iopub.status.idle": "2022-07-03T17:03:26.406267Z",
     "shell.execute_reply": "2022-07-03T17:03:26.406795Z",
     "shell.execute_reply.started": "2022-05-04T13:01:17.818045Z"
    },
    "papermill": {
     "duration": 34.642209,
     "end_time": "2022-07-03T17:03:26.406969",
     "exception": false,
     "start_time": "2022-07-03T17:02:51.764760",
     "status": "completed"
    },
    "tags": []
   },
   "outputs": [
    {
     "data": {
      "text/plain": [
       "GridSearchCV(cv=10, estimator=SVC(),\n",
       "             param_grid={'C': [0.1, 1, 10, 20, 100],\n",
       "                         'gamma': [0.1, 1, 10, 100]},\n",
       "             return_train_score=True, scoring='accuracy')"
      ]
     },
     "execution_count": 46,
     "metadata": {},
     "output_type": "execute_result"
    }
   ],
   "source": [
    "svc = SVC(kernel='rbf')\n",
    "svc_paramenters = {'C':[0.1,1,10,20,100],\n",
    "                   'gamma':[0.1,1,10,100]}\n",
    "svm_model_3 = GridSearchCV(svc,param_grid=svc_paramenters,return_train_score=True,cv=10,scoring='accuracy')\n",
    "svm_model_3.fit(x_train,y_train)"
   ]
  },
  {
   "cell_type": "code",
   "execution_count": 47,
   "id": "aef0b16b",
   "metadata": {
    "execution": {
     "iopub.execute_input": "2022-07-03T17:03:26.589589Z",
     "iopub.status.busy": "2022-07-03T17:03:26.588603Z",
     "iopub.status.idle": "2022-07-03T17:03:26.591781Z",
     "shell.execute_reply": "2022-07-03T17:03:26.592309Z",
     "shell.execute_reply.started": "2022-05-04T13:01:51.994205Z"
    },
    "papermill": {
     "duration": 0.097786,
     "end_time": "2022-07-03T17:03:26.592485",
     "exception": false,
     "start_time": "2022-07-03T17:03:26.494699",
     "status": "completed"
    },
    "tags": []
   },
   "outputs": [
    {
     "name": "stdout",
     "output_type": "stream",
     "text": [
      "Best parameters{'C': 100, 'gamma': 0.1}\n",
      "Best score 0.7888157894736841\n"
     ]
    }
   ],
   "source": [
    "print(f'''Best parameters{svm_model_3.best_params_}\n",
    "Best score {svm_model_3.best_score_}''')"
   ]
  },
  {
   "cell_type": "code",
   "execution_count": 48,
   "id": "a72cf9b0",
   "metadata": {
    "execution": {
     "iopub.execute_input": "2022-07-03T17:03:26.782741Z",
     "iopub.status.busy": "2022-07-03T17:03:26.772654Z",
     "iopub.status.idle": "2022-07-03T17:03:27.109368Z",
     "shell.execute_reply": "2022-07-03T17:03:27.108702Z",
     "shell.execute_reply.started": "2022-05-04T13:01:52.000724Z"
    },
    "papermill": {
     "duration": 0.429035,
     "end_time": "2022-07-03T17:03:27.109514",
     "exception": false,
     "start_time": "2022-07-03T17:03:26.680479",
     "status": "completed"
    },
    "tags": []
   },
   "outputs": [
    {
     "data": {
      "image/png": "[encoded data removed]",
      "text/plain": [
       "<Figure size 576x576 with 2 Axes>"
      ]
     },
     "metadata": {
      "needs_background": "light"
     },
     "output_type": "display_data"
    }
   ],
   "source": [
    "fig, ax = plt.subplots(figsize=(8, 8))\n",
    "plot_confusion_matrix(svm_model_3,x_test,y_test,ax=ax)\n",
    "plt.savefig('model_3_confusion_matrix.png')\n",
    "plt.show()"
   ]
  },
  {
   "cell_type": "markdown",
   "id": "3eed17a2",
   "metadata": {
    "papermill": {
     "duration": 0.093053,
     "end_time": "2022-07-03T17:03:27.293947",
     "exception": false,
     "start_time": "2022-07-03T17:03:27.200894",
     "status": "completed"
    },
    "tags": []
   },
   "source": [
    "# Prediction"
   ]
  },
  {
   "cell_type": "code",
   "execution_count": 49,
   "id": "d8dfd014",
   "metadata": {
    "execution": {
     "iopub.execute_input": "2022-07-03T17:03:27.481718Z",
     "iopub.status.busy": "2022-07-03T17:03:27.480961Z",
     "iopub.status.idle": "2022-07-03T17:03:27.528371Z",
     "shell.execute_reply": "2022-07-03T17:03:27.527767Z",
     "shell.execute_reply.started": "2022-05-04T13:01:52.336915Z"
    },
    "papermill": {
     "duration": 0.144781,
     "end_time": "2022-07-03T17:03:27.528526",
     "exception": false,
     "start_time": "2022-07-03T17:03:27.383745",
     "status": "completed"
    },
    "tags": []
   },
   "outputs": [
    {
     "data": {
      "text/plain": [
       "(40, 27)"
      ]
     },
     "execution_count": 49,
     "metadata": {},
     "output_type": "execute_result"
    }
   ],
   "source": [
    "df_predict = pd.read_excel('../input/steel-samples-prediction/New Samples.xlsx',header=None)\n",
    "df_predict.shape"
   ]
  },
  {
   "cell_type": "code",
   "execution_count": 50,
   "id": "23f03368",
   "metadata": {
    "execution": {
     "iopub.execute_input": "2022-07-03T17:03:27.714676Z",
     "iopub.status.busy": "2022-07-03T17:03:27.714021Z",
     "iopub.status.idle": "2022-07-03T17:03:27.728767Z",
     "shell.execute_reply": "2022-07-03T17:03:27.729828Z",
     "shell.execute_reply.started": "2022-05-04T13:01:52.389591Z"
    },
    "papermill": {
     "duration": 0.111044,
     "end_time": "2022-07-03T17:03:27.730127",
     "exception": false,
     "start_time": "2022-07-03T17:03:27.619083",
     "status": "completed"
    },
    "tags": []
   },
   "outputs": [
    {
     "name": "stdout",
     "output_type": "stream",
     "text": [
      "<class 'pandas.core.frame.DataFrame'>\n",
      "RangeIndex: 40 entries, 0 to 39\n",
      "Data columns (total 27 columns):\n",
      " #   Column  Non-Null Count  Dtype  \n",
      "---  ------  --------------  -----  \n",
      " 0   0       40 non-null     int64  \n",
      " 1   1       40 non-null     int64  \n",
      " 2   2       40 non-null     int64  \n",
      " 3   3       40 non-null     int64  \n",
      " 4   4       40 non-null     int64  \n",
      " 5   5       40 non-null     int64  \n",
      " 6   6       40 non-null     int64  \n",
      " 7   7       40 non-null     int64  \n",
      " 8   8       40 non-null     int64  \n",
      " 9   9       40 non-null     int64  \n",
      " 10  10      40 non-null     int64  \n",
      " 11  11      40 non-null     int64  \n",
      " 12  12      40 non-null     int64  \n",
      " 13  13      40 non-null     int64  \n",
      " 14  14      40 non-null     float64\n",
      " 15  15      40 non-null     float64\n",
      " 16  16      40 non-null     float64\n",
      " 17  17      40 non-null     float64\n",
      " 18  18      40 non-null     float64\n",
      " 19  19      40 non-null     float64\n",
      " 20  20      40 non-null     float64\n",
      " 21  21      40 non-null     float64\n",
      " 22  22      40 non-null     float64\n",
      " 23  23      40 non-null     float64\n",
      " 24  24      40 non-null     float64\n",
      " 25  25      40 non-null     float64\n",
      " 26  26      40 non-null     float64\n",
      "dtypes: float64(13), int64(14)\n",
      "memory usage: 8.6 KB\n"
     ]
    }
   ],
   "source": [
    "df_predict.info()"
   ]
  },
  {
   "cell_type": "code",
   "execution_count": 51,
   "id": "3c8a8d62",
   "metadata": {
    "execution": {
     "iopub.execute_input": "2022-07-03T17:03:27.917252Z",
     "iopub.status.busy": "2022-07-03T17:03:27.916203Z",
     "iopub.status.idle": "2022-07-03T17:03:27.923718Z",
     "shell.execute_reply": "2022-07-03T17:03:27.924501Z",
     "shell.execute_reply.started": "2022-05-04T13:01:52.405753Z"
    },
    "papermill": {
     "duration": 0.103499,
     "end_time": "2022-07-03T17:03:27.924755",
     "exception": false,
     "start_time": "2022-07-03T17:03:27.821256",
     "status": "completed"
    },
    "tags": []
   },
   "outputs": [],
   "source": [
    "df_predict = df_predict.astype('float')\n",
    "scaler = MinMaxScaler()\n",
    "y_pred = scaler.fit_transform(df_predict)"
   ]
  },
  {
   "cell_type": "code",
   "execution_count": 52,
   "id": "7fc5db26",
   "metadata": {
    "execution": {
     "iopub.execute_input": "2022-07-03T17:03:28.121420Z",
     "iopub.status.busy": "2022-07-03T17:03:28.120725Z",
     "iopub.status.idle": "2022-07-03T17:03:28.132975Z",
     "shell.execute_reply": "2022-07-03T17:03:28.132406Z",
     "shell.execute_reply.started": "2022-05-04T13:01:52.416705Z"
    },
    "papermill": {
     "duration": 0.113407,
     "end_time": "2022-07-03T17:03:28.133134",
     "exception": false,
     "start_time": "2022-07-03T17:03:28.019727",
     "status": "completed"
    },
    "tags": []
   },
   "outputs": [
    {
     "name": "stdout",
     "output_type": "stream",
     "text": [
      "<class 'pandas.core.frame.DataFrame'>\n",
      "RangeIndex: 40 entries, 0 to 39\n",
      "Data columns (total 27 columns):\n",
      " #   Column  Non-Null Count  Dtype  \n",
      "---  ------  --------------  -----  \n",
      " 0   0       40 non-null     float64\n",
      " 1   1       40 non-null     float64\n",
      " 2   2       40 non-null     float64\n",
      " 3   3       40 non-null     float64\n",
      " 4   4       40 non-null     float64\n",
      " 5   5       40 non-null     float64\n",
      " 6   6       40 non-null     float64\n",
      " 7   7       40 non-null     float64\n",
      " 8   8       40 non-null     float64\n",
      " 9   9       40 non-null     float64\n",
      " 10  10      40 non-null     float64\n",
      " 11  11      40 non-null     float64\n",
      " 12  12      40 non-null     float64\n",
      " 13  13      40 non-null     float64\n",
      " 14  14      40 non-null     float64\n",
      " 15  15      40 non-null     float64\n",
      " 16  16      40 non-null     float64\n",
      " 17  17      40 non-null     float64\n",
      " 18  18      40 non-null     float64\n",
      " 19  19      40 non-null     float64\n",
      " 20  20      40 non-null     float64\n",
      " 21  21      40 non-null     float64\n",
      " 22  22      40 non-null     float64\n",
      " 23  23      40 non-null     float64\n",
      " 24  24      40 non-null     float64\n",
      " 25  25      40 non-null     float64\n",
      " 26  26      40 non-null     float64\n",
      "dtypes: float64(27)\n",
      "memory usage: 8.6 KB\n"
     ]
    }
   ],
   "source": [
    "df_predict.info()"
   ]
  },
  {
   "cell_type": "code",
   "execution_count": 53,
   "id": "2da7f25d",
   "metadata": {
    "execution": {
     "iopub.execute_input": "2022-07-03T17:03:28.321746Z",
     "iopub.status.busy": "2022-07-03T17:03:28.320969Z",
     "iopub.status.idle": "2022-07-03T17:03:28.325568Z",
     "shell.execute_reply": "2022-07-03T17:03:28.326086Z",
     "shell.execute_reply.started": "2022-05-04T13:01:52.433748Z"
    },
    "papermill": {
     "duration": 0.099805,
     "end_time": "2022-07-03T17:03:28.326312",
     "exception": false,
     "start_time": "2022-07-03T17:03:28.226507",
     "status": "completed"
    },
    "tags": []
   },
   "outputs": [],
   "source": [
    "def convert_to_int(y):\n",
    "    '''Convert binary values to intger for model 3'''\n",
    "    new_pred_3 = []\n",
    "    for value in y:\n",
    "        if value == 1:\n",
    "            new_pred_3.append(7)\n",
    "        else:\n",
    "            new_pred_3.append(0)\n",
    "    return np.asarray(new_pred_3)"
   ]
  },
  {
   "cell_type": "code",
   "execution_count": 54,
   "id": "4eb83dc4",
   "metadata": {
    "execution": {
     "iopub.execute_input": "2022-07-03T17:03:28.516080Z",
     "iopub.status.busy": "2022-07-03T17:03:28.515416Z",
     "iopub.status.idle": "2022-07-03T17:03:28.524868Z",
     "shell.execute_reply": "2022-07-03T17:03:28.525410Z",
     "shell.execute_reply.started": "2022-05-04T13:01:52.445728Z"
    },
    "papermill": {
     "duration": 0.106128,
     "end_time": "2022-07-03T17:03:28.525600",
     "exception": false,
     "start_time": "2022-07-03T17:03:28.419472",
     "status": "completed"
    },
    "tags": []
   },
   "outputs": [],
   "source": [
    "# Predict\n",
    "pl_1 = svm_model_1.predict(y_pred)\n",
    "pl_2 = svm_model_2.predict(y_pred)\n",
    "pl_3 = convert_to_int(svm_model_3.predict(y_pred))"
   ]
  },
  {
   "cell_type": "code",
   "execution_count": 55,
   "id": "cedd05d7",
   "metadata": {
    "execution": {
     "iopub.execute_input": "2022-07-03T17:03:28.722686Z",
     "iopub.status.busy": "2022-07-03T17:03:28.721680Z",
     "iopub.status.idle": "2022-07-03T17:03:28.728898Z",
     "shell.execute_reply": "2022-07-03T17:03:28.729430Z",
     "shell.execute_reply.started": "2022-05-04T13:01:52.465841Z"
    },
    "papermill": {
     "duration": 0.108358,
     "end_time": "2022-07-03T17:03:28.729619",
     "exception": false,
     "start_time": "2022-07-03T17:03:28.621261",
     "status": "completed"
    },
    "tags": []
   },
   "outputs": [],
   "source": [
    "def vote(pred_1,pred_2,pred_3):\n",
    "    '''Do majority voting to decide last prediction'''\n",
    "    final_prediction = []\n",
    "    for y_1, y_2, y_3 in zip(pred_1,pred_2,pred_3):\n",
    "        if y_1 == y_2: # Majority by model 1 and 2\n",
    "            final_prediction.append(y_2)\n",
    "        elif y_1 == y_3: # Majority by model 1 and 3\n",
    "            final_prediction.append(y_1)\n",
    "        elif (y_3 == 0) and (y_1 != y_2) : # Chose the model with the highest accuracy\n",
    "            final_prediction.append(y_2)\n",
    "        else: # No majority found\n",
    "            raise Exception(f'No majority found{y_1},{y_2}, {y_3}')\n",
    "    return np.asarray(final_prediction)"
   ]
  },
  {
   "cell_type": "code",
   "execution_count": 56,
   "id": "3fd41abf",
   "metadata": {
    "execution": {
     "iopub.execute_input": "2022-07-03T17:03:28.922904Z",
     "iopub.status.busy": "2022-07-03T17:03:28.921928Z",
     "iopub.status.idle": "2022-07-03T17:03:28.927109Z",
     "shell.execute_reply": "2022-07-03T17:03:28.927608Z",
     "shell.execute_reply.started": "2022-05-04T13:01:52.475789Z"
    },
    "papermill": {
     "duration": 0.10228,
     "end_time": "2022-07-03T17:03:28.927785",
     "exception": false,
     "start_time": "2022-07-03T17:03:28.825505",
     "status": "completed"
    },
    "tags": []
   },
   "outputs": [
    {
     "data": {
      "text/plain": [
       "array([6, 6, 7, 7, 7, 7, 7, 7, 7, 7, 7, 7, 7, 7, 7, 7, 7, 2, 6, 7, 7, 7,\n",
       "       7, 1, 7, 3, 3, 3, 7, 7, 4, 4, 4, 4, 7, 7, 7, 7, 7, 7])"
      ]
     },
     "execution_count": 56,
     "metadata": {},
     "output_type": "execute_result"
    }
   ],
   "source": [
    "pl_1"
   ]
  },
  {
   "cell_type": "code",
   "execution_count": 57,
   "id": "04b21793",
   "metadata": {
    "execution": {
     "iopub.execute_input": "2022-07-03T17:03:29.114276Z",
     "iopub.status.busy": "2022-07-03T17:03:29.113060Z",
     "iopub.status.idle": "2022-07-03T17:03:29.119046Z",
     "shell.execute_reply": "2022-07-03T17:03:29.119668Z",
     "shell.execute_reply.started": "2022-05-04T13:01:52.493558Z"
    },
    "papermill": {
     "duration": 0.102169,
     "end_time": "2022-07-03T17:03:29.119861",
     "exception": false,
     "start_time": "2022-07-03T17:03:29.017692",
     "status": "completed"
    },
    "tags": []
   },
   "outputs": [
    {
     "data": {
      "text/plain": [
       "array([6, 6, 6, 3, 6, 6, 1, 1, 1, 1, 1, 1, 1, 6, 6, 6, 6, 2, 6, 6, 6, 1,\n",
       "       6, 1, 6, 3, 3, 3, 3, 3, 4, 4, 4, 4, 4, 6, 1, 6, 6, 6])"
      ]
     },
     "execution_count": 57,
     "metadata": {},
     "output_type": "execute_result"
    }
   ],
   "source": [
    "pl_2"
   ]
  },
  {
   "cell_type": "code",
   "execution_count": 58,
   "id": "6ba04202",
   "metadata": {
    "execution": {
     "iopub.execute_input": "2022-07-03T17:03:29.309799Z",
     "iopub.status.busy": "2022-07-03T17:03:29.308786Z",
     "iopub.status.idle": "2022-07-03T17:03:29.314130Z",
     "shell.execute_reply": "2022-07-03T17:03:29.314594Z",
     "shell.execute_reply.started": "2022-05-04T13:01:52.504908Z"
    },
    "papermill": {
     "duration": 0.102039,
     "end_time": "2022-07-03T17:03:29.314766",
     "exception": false,
     "start_time": "2022-07-03T17:03:29.212727",
     "status": "completed"
    },
    "tags": []
   },
   "outputs": [
    {
     "data": {
      "text/plain": [
       "array([7, 7, 7, 7, 7, 7, 7, 7, 7, 7, 7, 7, 7, 7, 7, 7, 0, 0, 0, 7, 7, 7,\n",
       "       7, 7, 7, 0, 0, 0, 0, 0, 0, 0, 0, 0, 0, 7, 0, 7, 7, 7])"
      ]
     },
     "execution_count": 58,
     "metadata": {},
     "output_type": "execute_result"
    }
   ],
   "source": [
    "pl_3"
   ]
  },
  {
   "cell_type": "code",
   "execution_count": 59,
   "id": "73b8dfb0",
   "metadata": {
    "execution": {
     "iopub.execute_input": "2022-07-03T17:03:29.514585Z",
     "iopub.status.busy": "2022-07-03T17:03:29.513164Z",
     "iopub.status.idle": "2022-07-03T17:03:29.520392Z",
     "shell.execute_reply": "2022-07-03T17:03:29.520975Z",
     "shell.execute_reply.started": "2022-05-04T13:01:52.519843Z"
    },
    "papermill": {
     "duration": 0.10673,
     "end_time": "2022-07-03T17:03:29.521291",
     "exception": false,
     "start_time": "2022-07-03T17:03:29.414561",
     "status": "completed"
    },
    "tags": []
   },
   "outputs": [
    {
     "data": {
      "text/plain": [
       "array([6, 6, 7, 7, 7, 7, 7, 7, 7, 7, 7, 7, 7, 7, 7, 7, 6, 2, 6, 7, 7, 7,\n",
       "       7, 1, 7, 3, 3, 3, 3, 3, 4, 4, 4, 4, 4, 7, 1, 7, 7, 7])"
      ]
     },
     "execution_count": 59,
     "metadata": {},
     "output_type": "execute_result"
    }
   ],
   "source": [
    "vote(pl_1,pl_2,pl_3)"
   ]
  },
  {
   "cell_type": "markdown",
   "id": "67b1d1d6",
   "metadata": {
    "papermill": {
     "duration": 0.096783,
     "end_time": "2022-07-03T17:03:29.724052",
     "exception": false,
     "start_time": "2022-07-03T17:03:29.627269",
     "status": "completed"
    },
    "tags": []
   },
   "source": [
    "# Oversampling"
   ]
  },
  {
   "cell_type": "code",
   "execution_count": 60,
   "id": "8357e7a4",
   "metadata": {
    "execution": {
     "iopub.execute_input": "2022-07-03T17:03:29.921139Z",
     "iopub.status.busy": "2022-07-03T17:03:29.920136Z",
     "iopub.status.idle": "2022-07-03T17:03:30.109738Z",
     "shell.execute_reply": "2022-07-03T17:03:30.108984Z",
     "shell.execute_reply.started": "2022-05-04T13:01:52.533719Z"
    },
    "papermill": {
     "duration": 0.292155,
     "end_time": "2022-07-03T17:03:30.109886",
     "exception": false,
     "start_time": "2022-07-03T17:03:29.817731",
     "status": "completed"
    },
    "tags": []
   },
   "outputs": [],
   "source": [
    "from imblearn.over_sampling import SMOTE"
   ]
  },
  {
   "cell_type": "markdown",
   "id": "057a981f",
   "metadata": {
    "papermill": {
     "duration": 0.09428,
     "end_time": "2022-07-03T17:03:30.301448",
     "exception": false,
     "start_time": "2022-07-03T17:03:30.207168",
     "status": "completed"
    },
    "tags": []
   },
   "source": [
    "## Model 1 | Base-model"
   ]
  },
  {
   "cell_type": "code",
   "execution_count": 61,
   "id": "76b010f4",
   "metadata": {
    "execution": {
     "iopub.execute_input": "2022-07-03T17:03:30.508502Z",
     "iopub.status.busy": "2022-07-03T17:03:30.507807Z",
     "iopub.status.idle": "2022-07-03T17:03:31.722789Z",
     "shell.execute_reply": "2022-07-03T17:03:31.722166Z",
     "shell.execute_reply.started": "2022-05-04T13:01:52.693069Z"
    },
    "papermill": {
     "duration": 1.324388,
     "end_time": "2022-07-03T17:03:31.722942",
     "exception": false,
     "start_time": "2022-07-03T17:03:30.398554",
     "status": "completed"
    },
    "tags": []
   },
   "outputs": [
    {
     "data": {
      "text/plain": [
       "((3740, 27), (936, 27), (3740,), (936,))"
      ]
     },
     "execution_count": 61,
     "metadata": {},
     "output_type": "execute_result"
    }
   ],
   "source": [
    "# Read data\n",
    "df = pd.read_excel('../input/steel-plates-fault-dataset/Steel Plates Fault Dataset.xlsx',header=None)\n",
    "\n",
    "# Convert columns 0 to 13 from intger to float\n",
    "df.loc[:,:13] = df.loc[:,:13].astype('float64')\n",
    "\n",
    "# Split the data into independant(x) and dependant(y) variables dataframes for base-model\n",
    "df_x = df.loc[:,0:26]\n",
    "df_y = df.loc[:,27:33]\n",
    "\n",
    "# Split the labels into their own groups\n",
    "df_27 = df[27].loc[df[27]==1]\n",
    "df_28 = df[28].loc[df[28]==1]\n",
    "df_29 = df[29].loc[df[29]==1]\n",
    "df_30 = df[30].loc[df[30]==1]\n",
    "df_31 = df[31].loc[df[31]==1]\n",
    "df_32 = df[32].loc[df[32]==1]\n",
    "df_33 = df[33].loc[df[33]==1]\n",
    "\n",
    "# Change the labling to 1 to 7 that corresponds to labels from 27 to 33\n",
    "df_28 = df_28.where(df_28!=1, 2,axis=0)\n",
    "df_29 = df_29.where(df_29!=1, 3,axis=0)\n",
    "df_30 = df_30.where(df_30!=1, 4,axis=0)\n",
    "df_31 = df_31.where(df_31!=1, 5,axis=0)\n",
    "df_32 = df_32.where(df_32!=1, 6,axis=0)\n",
    "df_33 = df_33.where(df_33!=1, 7,axis=0)\n",
    "frames = [df_27,df_28,df_29,df_30,df_31,df_32,df_33] # With group 7\n",
    "df_y = pd.concat(frames)\n",
    "\n",
    "# Oversampling\n",
    "df_x, y = SMOTE(random_state=7).fit_resample(df_x, df_y)\n",
    "df_x.shape, y.shape\n",
    "\n",
    "# Downscaling\n",
    "scaler = MinMaxScaler()\n",
    "x = scaler.fit_transform(df_x)\n",
    "\n",
    "# Split data into training and testing sets\n",
    "x_train, x_test, y_train, y_test = train_test_split(x, y, random_state=10,test_size=0.20,stratify=y)\n",
    "\n",
    "x_train.shape, x_test.shape, y_train.shape, y_test.shape"
   ]
  },
  {
   "cell_type": "code",
   "execution_count": 62,
   "id": "601288e5",
   "metadata": {
    "execution": {
     "iopub.execute_input": "2022-07-03T17:03:31.925348Z",
     "iopub.status.busy": "2022-07-03T17:03:31.924544Z",
     "iopub.status.idle": "2022-07-03T17:06:20.855237Z",
     "shell.execute_reply": "2022-07-03T17:06:20.855796Z",
     "shell.execute_reply.started": "2022-05-04T13:01:53.896066Z"
    },
    "papermill": {
     "duration": 169.035411,
     "end_time": "2022-07-03T17:06:20.855983",
     "exception": false,
     "start_time": "2022-07-03T17:03:31.820572",
     "status": "completed"
    },
    "tags": []
   },
   "outputs": [
    {
     "name": "stdout",
     "output_type": "stream",
     "text": [
      "Best parameters:{'C': 100, 'gamma': 1}\n",
      "Best score:0.9034759358288771\n",
      "Accuracy score:0.8878205128205128\n",
      "\n"
     ]
    }
   ],
   "source": [
    "# Model selection\n",
    "svc = SVC(kernel='rbf')\n",
    "svc_paramenters = {'C':[0.1,1,10,100],\n",
    "                   'gamma':[0.1,1,10,100]}\n",
    "svm_model_smote_1 = GridSearchCV(svc,param_grid=svc_paramenters,return_train_score=True,cv=10,scoring='accuracy')\n",
    "svm_model_smote_1.fit(x_train,y_train)\n",
    "\n",
    "print(f'''Best parameters:{svm_model_smote_1.best_params_}\n",
    "Best score:{svm_model_smote_1.best_score_}\n",
    "Accuracy score:{svm_model_smote_1.score(x_test,y_test)}\n",
    "''')"
   ]
  },
  {
   "cell_type": "code",
   "execution_count": 63,
   "id": "51d94eb4",
   "metadata": {
    "execution": {
     "iopub.execute_input": "2022-07-03T17:06:21.053144Z",
     "iopub.status.busy": "2022-07-03T17:06:21.052474Z",
     "iopub.status.idle": "2022-07-03T17:06:21.865445Z",
     "shell.execute_reply": "2022-07-03T17:06:21.864773Z",
     "shell.execute_reply.started": "2022-05-04T13:04:38.89831Z"
    },
    "papermill": {
     "duration": 0.914823,
     "end_time": "2022-07-03T17:06:21.865586",
     "exception": false,
     "start_time": "2022-07-03T17:06:20.950763",
     "status": "completed"
    },
    "tags": []
   },
   "outputs": [
    {
     "data": {
      "image/png": "[encoded data removed]",
      "text/plain": [
       "<Figure size 576x576 with 2 Axes>"
      ]
     },
     "metadata": {
      "needs_background": "light"
     },
     "output_type": "display_data"
    }
   ],
   "source": [
    "# Confusion matrix\n",
    "fig, ax = plt.subplots(figsize=(8, 8))\n",
    "plot_confusion_matrix(svm_model_smote_1,x_test,y_test,ax=ax)\n",
    "plt.savefig('model_1_smote_confusion_matrix.png')\n",
    "plt.show()"
   ]
  },
  {
   "cell_type": "markdown",
   "id": "70ae1e3f",
   "metadata": {
    "papermill": {
     "duration": 0.092796,
     "end_time": "2022-07-03T17:06:22.054674",
     "exception": false,
     "start_time": "2022-07-03T17:06:21.961878",
     "status": "completed"
    },
    "tags": []
   },
   "source": [
    "## Model 2 | without fault group 7"
   ]
  },
  {
   "cell_type": "code",
   "execution_count": 64,
   "id": "f00dba27",
   "metadata": {
    "execution": {
     "iopub.execute_input": "2022-07-03T17:06:22.258634Z",
     "iopub.status.busy": "2022-07-03T17:06:22.257909Z",
     "iopub.status.idle": "2022-07-03T17:06:23.421494Z",
     "shell.execute_reply": "2022-07-03T17:06:23.422022Z",
     "shell.execute_reply.started": "2022-05-04T13:04:39.581615Z"
    },
    "papermill": {
     "duration": 1.27064,
     "end_time": "2022-07-03T17:06:23.422222",
     "exception": false,
     "start_time": "2022-07-03T17:06:22.151582",
     "status": "completed"
    },
    "tags": []
   },
   "outputs": [],
   "source": [
    "df = pd.read_excel('../input/steel-plates-fault-dataset/Steel Plates Fault Dataset.xlsx',header=None)\n",
    "\n",
    "# Convert columns 0 to 13 from intger to float\n",
    "df.loc[:,:13] = df.loc[:,:13].astype('float64')\n",
    "\n",
    "# Remove fault group 7\n",
    "df = df.loc[df[33]!=1] # Remove smaples with fault group 7\n",
    "df = df.loc[:,:32] # Remove fault group 7\n",
    "\n",
    "# Split the data into independant(x) and dependant(y) variables dataframes for model-2\n",
    "df_x = df.loc[:,0:26]\n",
    "df_y = df.loc[:,27:32]\n",
    "\n",
    "# Split the labels into their own groups\n",
    "df_27 = df[27].loc[df[27]==1]\n",
    "df_28 = df[28].loc[df[28]==1]\n",
    "df_29 = df[29].loc[df[29]==1]\n",
    "df_30 = df[30].loc[df[30]==1]\n",
    "df_31 = df[31].loc[df[31]==1]\n",
    "df_32 = df[32].loc[df[32]==1]\n",
    "\n",
    "# Change the labling to 1 to 6 that corresponds to labels from 27 to 32\n",
    "df_28 = df_28.where(df_28!=1, 2,axis=0)\n",
    "df_29 = df_29.where(df_29!=1, 3,axis=0)\n",
    "df_30 = df_30.where(df_30!=1, 4,axis=0)\n",
    "df_31 = df_31.where(df_31!=1, 5,axis=0)\n",
    "df_32 = df_32.where(df_32!=1, 6,axis=0)\n",
    "frames = [df_27,df_28,df_29,df_30,df_31,df_32]\n",
    "y = pd.concat(frames)\n",
    "\n",
    "scaler = MinMaxScaler()\n",
    "x = scaler.fit_transform(df_x)\n",
    "\n",
    "x, y = SMOTE(random_state=7).fit_resample(x, y)\n",
    "\n",
    "x_train, x_test, y_train, y_test = train_test_split(x, y, random_state=10,test_size=0.20,stratify=y)"
   ]
  },
  {
   "cell_type": "code",
   "execution_count": 65,
   "id": "0d25d716",
   "metadata": {
    "execution": {
     "iopub.execute_input": "2022-07-03T17:06:23.617189Z",
     "iopub.status.busy": "2022-07-03T17:06:23.616487Z",
     "iopub.status.idle": "2022-07-03T17:07:12.492050Z",
     "shell.execute_reply": "2022-07-03T17:07:12.492592Z",
     "shell.execute_reply.started": "2022-05-04T13:04:40.919158Z"
    },
    "papermill": {
     "duration": 48.974887,
     "end_time": "2022-07-03T17:07:12.492764",
     "exception": false,
     "start_time": "2022-07-03T17:06:23.517877",
     "status": "completed"
    },
    "tags": []
   },
   "outputs": [
    {
     "name": "stdout",
     "output_type": "stream",
     "text": [
      "Best parameters:{'C': 100, 'gamma': 1}\n",
      "Best score:0.9506806282722513\n",
      "Accuracy score:0.9517819706498952\n",
      "\n"
     ]
    }
   ],
   "source": [
    "svc = SVC(kernel='rbf')\n",
    "svc_paramenters = {'C':[0.1,1,10,20,100],\n",
    "                   'gamma':[0.1,1,10,100]}\n",
    "svm_model_smote_2 = GridSearchCV(svc,param_grid=svc_paramenters,return_train_score=True,cv=10,scoring='accuracy')\n",
    "svm_model_smote_2.fit(x_train,y_train)\n",
    "\n",
    "print(f'''Best parameters:{svm_model_smote_2.best_params_}\n",
    "Best score:{svm_model_smote_2.best_score_}\n",
    "Accuracy score:{svm_model_smote_2.score(x_test,y_test)}\n",
    "''')"
   ]
  },
  {
   "cell_type": "code",
   "execution_count": 66,
   "id": "dac1b763",
   "metadata": {
    "execution": {
     "iopub.execute_input": "2022-07-03T17:07:12.702427Z",
     "iopub.status.busy": "2022-07-03T17:07:12.696831Z",
     "iopub.status.idle": "2022-07-03T17:07:13.215955Z",
     "shell.execute_reply": "2022-07-03T17:07:13.215288Z",
     "shell.execute_reply.started": "2022-05-04T13:05:29.569502Z"
    },
    "papermill": {
     "duration": 0.630443,
     "end_time": "2022-07-03T17:07:13.216133",
     "exception": false,
     "start_time": "2022-07-03T17:07:12.585690",
     "status": "completed"
    },
    "tags": []
   },
   "outputs": [
    {
     "data": {
      "image/png": "[encoded data removed]",
      "text/plain": [
       "<Figure size 576x576 with 2 Axes>"
      ]
     },
     "metadata": {
      "needs_background": "light"
     },
     "output_type": "display_data"
    }
   ],
   "source": [
    "fig, ax = plt.subplots(figsize=(8, 8))\n",
    "plot_confusion_matrix(svm_model_smote_2,x_test,y_test,ax=ax)\n",
    "plt.savefig('model_2_smote_confusion_matrix.png')\n",
    "plt.show()"
   ]
  },
  {
   "cell_type": "markdown",
   "id": "c36b9e86",
   "metadata": {
    "papermill": {
     "duration": 0.093641,
     "end_time": "2022-07-03T17:07:13.404160",
     "exception": false,
     "start_time": "2022-07-03T17:07:13.310519",
     "status": "completed"
    },
    "tags": []
   },
   "source": [
    "## Model 3"
   ]
  },
  {
   "cell_type": "code",
   "execution_count": 67,
   "id": "04618725",
   "metadata": {
    "execution": {
     "iopub.execute_input": "2022-07-03T17:07:13.600742Z",
     "iopub.status.busy": "2022-07-03T17:07:13.599950Z",
     "iopub.status.idle": "2022-07-03T17:07:14.912354Z",
     "shell.execute_reply": "2022-07-03T17:07:14.911373Z",
     "shell.execute_reply.started": "2022-05-04T13:05:30.126242Z"
    },
    "papermill": {
     "duration": 1.414284,
     "end_time": "2022-07-03T17:07:14.912513",
     "exception": false,
     "start_time": "2022-07-03T17:07:13.498229",
     "status": "completed"
    },
    "tags": []
   },
   "outputs": [],
   "source": [
    "# Read data\n",
    "df = pd.read_excel('../input/steel-plates-fault-dataset/Steel Plates Fault Dataset.xlsx',header=None)\n",
    "\n",
    "# Selecting only fault group 7\n",
    "df = df.drop(columns=[27,28,29,30,31,32])\n",
    "\n",
    "df_x = df.loc[:,:26]\n",
    "y = df.loc[:,32:33]\n",
    "\n",
    "# Downscaling\n",
    "scaler = MinMaxScaler()\n",
    "x = scaler.fit_transform(df_x)\n",
    "\n",
    "# Oversampling\n",
    "x, y = SMOTE(random_state=7).fit_resample(x,y)\n",
    "\n",
    "# Split data\n",
    "x_train, x_test, y_train, y_test = train_test_split(x, y, random_state=10,test_size=0.20,stratify=y)\n",
    "# Flatting data\n",
    "y_train = np.ravel(y_train)"
   ]
  },
  {
   "cell_type": "code",
   "execution_count": 68,
   "id": "77328165",
   "metadata": {
    "execution": {
     "iopub.execute_input": "2022-07-03T17:07:15.104077Z",
     "iopub.status.busy": "2022-07-03T17:07:15.103425Z",
     "iopub.status.idle": "2022-07-03T17:08:14.657018Z",
     "shell.execute_reply": "2022-07-03T17:08:14.657563Z",
     "shell.execute_reply.started": "2022-05-04T13:05:31.418795Z"
    },
    "papermill": {
     "duration": 59.650271,
     "end_time": "2022-07-03T17:08:14.657747",
     "exception": false,
     "start_time": "2022-07-03T17:07:15.007476",
     "status": "completed"
    },
    "tags": []
   },
   "outputs": [
    {
     "name": "stdout",
     "output_type": "stream",
     "text": [
      "Best parameters:{'C': 100, 'gamma': 10}\n",
      "Best score:0.8524355227400913\n",
      "Accuracy score:0.8623481781376519\n",
      "\n"
     ]
    }
   ],
   "source": [
    "# Model selection\n",
    "svc = SVC(kernel='rbf')\n",
    "svc_paramenters = {'C':[0.1,1,10,20,100],\n",
    "                   'gamma':[0.1,1,10,100]}\n",
    "svm_model_smote_3 = GridSearchCV(svc,param_grid=svc_paramenters,return_train_score=True,cv=10,scoring='accuracy')\n",
    "svm_model_smote_3.fit(x_train,y_train)\n",
    "\n",
    "print(f'''Best parameters:{svm_model_smote_3.best_params_}\n",
    "Best score:{svm_model_smote_3.best_score_}\n",
    "Accuracy score:{svm_model_smote_3.score(x_test,y_test)}\n",
    "''')"
   ]
  },
  {
   "cell_type": "code",
   "execution_count": 69,
   "id": "51f10efd",
   "metadata": {
    "execution": {
     "iopub.execute_input": "2022-07-03T17:08:14.852116Z",
     "iopub.status.busy": "2022-07-03T17:08:14.851443Z",
     "iopub.status.idle": "2022-07-03T17:08:15.203432Z",
     "shell.execute_reply": "2022-07-03T17:08:15.202804Z",
     "shell.execute_reply.started": "2022-05-04T13:06:29.653864Z"
    },
    "papermill": {
     "duration": 0.450454,
     "end_time": "2022-07-03T17:08:15.203595",
     "exception": false,
     "start_time": "2022-07-03T17:08:14.753141",
     "status": "completed"
    },
    "tags": []
   },
   "outputs": [
    {
     "data": {
      "image/png": "[encoded data removed]",
      "text/plain": [
       "<Figure size 576x576 with 2 Axes>"
      ]
     },
     "metadata": {
      "needs_background": "light"
     },
     "output_type": "display_data"
    }
   ],
   "source": [
    "# Confusion matrix\n",
    "fig, ax = plt.subplots(figsize=(8, 8))\n",
    "plot_confusion_matrix(svm_model_smote_3,x_test,y_test,ax=ax)\n",
    "plt.savefig('model_3_smote_confusion_matrix.png')\n",
    "plt.show()"
   ]
  },
  {
   "cell_type": "markdown",
   "id": "86bef0ed",
   "metadata": {
    "papermill": {
     "duration": 0.095101,
     "end_time": "2022-07-03T17:08:15.394342",
     "exception": false,
     "start_time": "2022-07-03T17:08:15.299241",
     "status": "completed"
    },
    "tags": []
   },
   "source": [
    "# Validation"
   ]
  },
  {
   "cell_type": "code",
   "execution_count": 70,
   "id": "3866606e",
   "metadata": {
    "execution": {
     "iopub.execute_input": "2022-07-03T17:08:15.590826Z",
     "iopub.status.busy": "2022-07-03T17:08:15.589792Z",
     "iopub.status.idle": "2022-07-03T17:08:16.750237Z",
     "shell.execute_reply": "2022-07-03T17:08:16.749456Z",
     "shell.execute_reply.started": "2022-05-04T13:06:30.001132Z"
    },
    "papermill": {
     "duration": 1.260258,
     "end_time": "2022-07-03T17:08:16.750385",
     "exception": false,
     "start_time": "2022-07-03T17:08:15.490127",
     "status": "completed"
    },
    "tags": []
   },
   "outputs": [
    {
     "data": {
      "text/plain": [
       "((1520, 27), (381, 27), (1520,), (381,))"
      ]
     },
     "execution_count": 70,
     "metadata": {},
     "output_type": "execute_result"
    }
   ],
   "source": [
    "# Read data\n",
    "df = pd.read_excel('../input/steel-plates-fault-dataset/Steel Plates Fault Dataset.xlsx',header=None)\n",
    "\n",
    "# Convert columns 0 to 13 from intger to float\n",
    "df.loc[:,:13] = df.loc[:,:13].astype('float64')\n",
    "\n",
    "# Split the data into independant(x) and dependant(y) variables\n",
    "\n",
    "df_x = df.loc[:,0:26]\n",
    "df_y = df.loc[:,27:33]\n",
    "\n",
    "# Split the labels into their own groups\n",
    "df_27 = df[27].loc[df[27]==1]\n",
    "df_28 = df[28].loc[df[28]==1]\n",
    "df_29 = df[29].loc[df[29]==1]\n",
    "df_30 = df[30].loc[df[30]==1]\n",
    "df_31 = df[31].loc[df[31]==1]\n",
    "df_32 = df[32].loc[df[32]==1]\n",
    "df_33 = df[33].loc[df[33]==1]\n",
    "\n",
    "# Change the labling to 1 to 7 that corresponds to labels from 27 to 33\n",
    "df_28 = df_28.where(df_28!=1, 2,axis=0)\n",
    "df_29 = df_29.where(df_29!=1, 3,axis=0)\n",
    "df_30 = df_30.where(df_30!=1, 4,axis=0)\n",
    "df_31 = df_31.where(df_31!=1, 5,axis=0)\n",
    "df_32 = df_32.where(df_32!=1, 6,axis=0)\n",
    "df_33 = df_33.where(df_33!=1, 7,axis=0)\n",
    "frames = [df_27,df_28,df_29,df_30,df_31,df_32,df_33] # With group 7\n",
    "y = pd.concat(frames)\n",
    "\n",
    "# Over-sampling\n",
    "#df_x, y = SMOTE(random_state=7).fit_resample(df_x, df_y)\n",
    "#df_x.shape, y.shape\n",
    "\n",
    "# Downscaling\n",
    "scaler = MinMaxScaler()\n",
    "x = scaler.fit_transform(df_x)\n",
    "\n",
    "#Spliting data to train and test sets\n",
    "x_train, x_test, y_train, y_test = train_test_split(x, y, random_state=10,test_size=0.20,stratify=y)\n",
    "\n",
    "x_train.shape, x_test.shape, y_train.shape, y_test.shape"
   ]
  },
  {
   "cell_type": "code",
   "execution_count": 71,
   "id": "a9616e33",
   "metadata": {
    "execution": {
     "iopub.execute_input": "2022-07-03T17:08:16.958148Z",
     "iopub.status.busy": "2022-07-03T17:08:16.956748Z",
     "iopub.status.idle": "2022-07-03T17:08:17.026292Z",
     "shell.execute_reply": "2022-07-03T17:08:17.025652Z",
     "shell.execute_reply.started": "2022-05-04T13:06:31.137318Z"
    },
    "papermill": {
     "duration": 0.174173,
     "end_time": "2022-07-03T17:08:17.026444",
     "exception": false,
     "start_time": "2022-07-03T17:08:16.852271",
     "status": "completed"
    },
    "tags": []
   },
   "outputs": [],
   "source": [
    "# Number of samples to compare\n",
    "test_sample = None\n",
    "\n",
    "model_1_smote_pred = pd.DataFrame(svm_model_smote_1.predict(x_test[:test_sample]),columns=['Model 1'])\n",
    "model_2_smote_pred = pd.DataFrame(svm_model_smote_2.predict(x_test[:test_sample]),columns=['Model 2'])\n",
    "model_3_smote_pred = pd.DataFrame(convert_to_int(svm_model_smote_3.predict(x_test[:test_sample])),columns=['Model 3'])\n",
    "vote_y = pd.DataFrame(vote(np.asarray(model_1_smote_pred),np.asarray(model_2_smote_pred),np.asarray(model_3_smote_pred)),columns=['Voting result'])\n",
    "test_y = pd.DataFrame(np.asarray(y_test[:test_sample]),columns=['Actual value'])"
   ]
  },
  {
   "cell_type": "code",
   "execution_count": 72,
   "id": "798e41af",
   "metadata": {
    "execution": {
     "iopub.execute_input": "2022-07-03T17:08:17.231847Z",
     "iopub.status.busy": "2022-07-03T17:08:17.230811Z",
     "iopub.status.idle": "2022-07-03T17:08:17.240585Z",
     "shell.execute_reply": "2022-07-03T17:08:17.241033Z",
     "shell.execute_reply.started": "2022-05-04T13:06:31.205874Z"
    },
    "papermill": {
     "duration": 0.115765,
     "end_time": "2022-07-03T17:08:17.241217",
     "exception": false,
     "start_time": "2022-07-03T17:08:17.125452",
     "status": "completed"
    },
    "tags": []
   },
   "outputs": [
    {
     "data": {
      "text/html": [
       "<div>\n",
       "<style scoped>\n",
       "    .dataframe tbody tr th:only-of-type {\n",
       "        vertical-align: middle;\n",
       "    }\n",
       "\n",
       "    .dataframe tbody tr th {\n",
       "        vertical-align: top;\n",
       "    }\n",
       "\n",
       "    .dataframe thead th {\n",
       "        text-align: right;\n",
       "    }\n",
       "</style>\n",
       "<table border=\"1\" class=\"dataframe\">\n",
       "  <thead>\n",
       "    <tr style=\"text-align: right;\">\n",
       "      <th></th>\n",
       "      <th>Model 1</th>\n",
       "      <th>Model 2</th>\n",
       "      <th>Model 3</th>\n",
       "      <th>Voting result</th>\n",
       "      <th>Actual value</th>\n",
       "    </tr>\n",
       "  </thead>\n",
       "  <tbody>\n",
       "    <tr>\n",
       "      <th>0</th>\n",
       "      <td>1</td>\n",
       "      <td>1</td>\n",
       "      <td>0</td>\n",
       "      <td>1</td>\n",
       "      <td>1</td>\n",
       "    </tr>\n",
       "    <tr>\n",
       "      <th>1</th>\n",
       "      <td>7</td>\n",
       "      <td>2</td>\n",
       "      <td>7</td>\n",
       "      <td>7</td>\n",
       "      <td>7</td>\n",
       "    </tr>\n",
       "    <tr>\n",
       "      <th>2</th>\n",
       "      <td>3</td>\n",
       "      <td>3</td>\n",
       "      <td>0</td>\n",
       "      <td>3</td>\n",
       "      <td>3</td>\n",
       "    </tr>\n",
       "    <tr>\n",
       "      <th>3</th>\n",
       "      <td>7</td>\n",
       "      <td>1</td>\n",
       "      <td>7</td>\n",
       "      <td>7</td>\n",
       "      <td>7</td>\n",
       "    </tr>\n",
       "    <tr>\n",
       "      <th>4</th>\n",
       "      <td>7</td>\n",
       "      <td>6</td>\n",
       "      <td>7</td>\n",
       "      <td>7</td>\n",
       "      <td>7</td>\n",
       "    </tr>\n",
       "    <tr>\n",
       "      <th>...</th>\n",
       "      <td>...</td>\n",
       "      <td>...</td>\n",
       "      <td>...</td>\n",
       "      <td>...</td>\n",
       "      <td>...</td>\n",
       "    </tr>\n",
       "    <tr>\n",
       "      <th>376</th>\n",
       "      <td>3</td>\n",
       "      <td>3</td>\n",
       "      <td>0</td>\n",
       "      <td>3</td>\n",
       "      <td>3</td>\n",
       "    </tr>\n",
       "    <tr>\n",
       "      <th>377</th>\n",
       "      <td>6</td>\n",
       "      <td>6</td>\n",
       "      <td>0</td>\n",
       "      <td>6</td>\n",
       "      <td>6</td>\n",
       "    </tr>\n",
       "    <tr>\n",
       "      <th>378</th>\n",
       "      <td>7</td>\n",
       "      <td>6</td>\n",
       "      <td>7</td>\n",
       "      <td>7</td>\n",
       "      <td>7</td>\n",
       "    </tr>\n",
       "    <tr>\n",
       "      <th>379</th>\n",
       "      <td>3</td>\n",
       "      <td>3</td>\n",
       "      <td>0</td>\n",
       "      <td>3</td>\n",
       "      <td>3</td>\n",
       "    </tr>\n",
       "    <tr>\n",
       "      <th>380</th>\n",
       "      <td>2</td>\n",
       "      <td>2</td>\n",
       "      <td>0</td>\n",
       "      <td>2</td>\n",
       "      <td>2</td>\n",
       "    </tr>\n",
       "  </tbody>\n",
       "</table>\n",
       "<p>381 rows × 5 columns</p>\n",
       "</div>"
      ],
      "text/plain": [
       "     Model 1  Model 2  Model 3  Voting result  Actual value\n",
       "0          1        1        0              1             1\n",
       "1          7        2        7              7             7\n",
       "2          3        3        0              3             3\n",
       "3          7        1        7              7             7\n",
       "4          7        6        7              7             7\n",
       "..       ...      ...      ...            ...           ...\n",
       "376        3        3        0              3             3\n",
       "377        6        6        0              6             6\n",
       "378        7        6        7              7             7\n",
       "379        3        3        0              3             3\n",
       "380        2        2        0              2             2\n",
       "\n",
       "[381 rows x 5 columns]"
      ]
     },
     "execution_count": 72,
     "metadata": {},
     "output_type": "execute_result"
    }
   ],
   "source": [
    "pd.concat([model_1_smote_pred,model_2_smote_pred,model_3_smote_pred,vote_y,test_y],axis=1)"
   ]
  },
  {
   "cell_type": "code",
   "execution_count": 73,
   "id": "b6ad3c7a",
   "metadata": {
    "execution": {
     "iopub.execute_input": "2022-07-03T17:08:17.440669Z",
     "iopub.status.busy": "2022-07-03T17:08:17.439909Z",
     "iopub.status.idle": "2022-07-03T17:08:17.443332Z",
     "shell.execute_reply": "2022-07-03T17:08:17.443839Z",
     "shell.execute_reply.started": "2022-05-04T13:06:31.223627Z"
    },
    "papermill": {
     "duration": 0.105481,
     "end_time": "2022-07-03T17:08:17.444024",
     "exception": false,
     "start_time": "2022-07-03T17:08:17.338543",
     "status": "completed"
    },
    "tags": []
   },
   "outputs": [],
   "source": [
    "from sklearn.metrics import ConfusionMatrixDisplay, accuracy_score"
   ]
  },
  {
   "cell_type": "code",
   "execution_count": 74,
   "id": "10549ec3",
   "metadata": {
    "execution": {
     "iopub.execute_input": "2022-07-03T17:08:17.652240Z",
     "iopub.status.busy": "2022-07-03T17:08:17.651530Z",
     "iopub.status.idle": "2022-07-03T17:08:17.656941Z",
     "shell.execute_reply": "2022-07-03T17:08:17.657549Z",
     "shell.execute_reply.started": "2022-05-04T13:06:31.247313Z"
    },
    "papermill": {
     "duration": 0.11357,
     "end_time": "2022-07-03T17:08:17.657726",
     "exception": false,
     "start_time": "2022-07-03T17:08:17.544156",
     "status": "completed"
    },
    "tags": []
   },
   "outputs": [
    {
     "data": {
      "text/plain": [
       "0.9448818897637795"
      ]
     },
     "execution_count": 74,
     "metadata": {},
     "output_type": "execute_result"
    }
   ],
   "source": [
    "accuracy_score(model_1_smote_pred,test_y)"
   ]
  },
  {
   "cell_type": "code",
   "execution_count": 75,
   "id": "f3eaa7ba",
   "metadata": {
    "execution": {
     "iopub.execute_input": "2022-07-03T17:08:17.854507Z",
     "iopub.status.busy": "2022-07-03T17:08:17.853817Z",
     "iopub.status.idle": "2022-07-03T17:08:17.859079Z",
     "shell.execute_reply": "2022-07-03T17:08:17.859688Z",
     "shell.execute_reply.started": "2022-05-04T13:06:31.263757Z"
    },
    "papermill": {
     "duration": 0.105392,
     "end_time": "2022-07-03T17:08:17.859867",
     "exception": false,
     "start_time": "2022-07-03T17:08:17.754475",
     "status": "completed"
    },
    "tags": []
   },
   "outputs": [
    {
     "data": {
      "text/plain": [
       "0.926509186351706"
      ]
     },
     "execution_count": 75,
     "metadata": {},
     "output_type": "execute_result"
    }
   ],
   "source": [
    "accuracy_score(vote_y,test_y)"
   ]
  },
  {
   "cell_type": "code",
   "execution_count": 76,
   "id": "a33f80f2",
   "metadata": {
    "execution": {
     "iopub.execute_input": "2022-07-03T17:08:18.064019Z",
     "iopub.status.busy": "2022-07-03T17:08:18.063293Z",
     "iopub.status.idle": "2022-07-03T17:08:18.069246Z",
     "shell.execute_reply": "2022-07-03T17:08:18.070368Z",
     "shell.execute_reply.started": "2022-05-04T13:06:31.279247Z"
    },
    "papermill": {
     "duration": 0.107843,
     "end_time": "2022-07-03T17:08:18.070576",
     "exception": false,
     "start_time": "2022-07-03T17:08:17.962733",
     "status": "completed"
    },
    "tags": []
   },
   "outputs": [
    {
     "data": {
      "text/plain": [
       "0.6272965879265092"
      ]
     },
     "execution_count": 76,
     "metadata": {},
     "output_type": "execute_result"
    }
   ],
   "source": [
    "accuracy_score(model_2_smote_pred,test_y)"
   ]
  },
  {
   "cell_type": "code",
   "execution_count": 77,
   "id": "2c2a256b",
   "metadata": {
    "execution": {
     "iopub.execute_input": "2022-07-03T17:08:18.275020Z",
     "iopub.status.busy": "2022-07-03T17:08:18.274344Z",
     "iopub.status.idle": "2022-07-03T17:08:18.280659Z",
     "shell.execute_reply": "2022-07-03T17:08:18.280007Z",
     "shell.execute_reply.started": "2022-05-04T13:06:31.289234Z"
    },
    "papermill": {
     "duration": 0.108646,
     "end_time": "2022-07-03T17:08:18.280800",
     "exception": false,
     "start_time": "2022-07-03T17:08:18.172154",
     "status": "completed"
    },
    "tags": []
   },
   "outputs": [
    {
     "data": {
      "text/plain": [
       "0.32545931758530183"
      ]
     },
     "execution_count": 77,
     "metadata": {},
     "output_type": "execute_result"
    }
   ],
   "source": [
    "accuracy_score(model_3_smote_pred,test_y)"
   ]
  },
  {
   "cell_type": "code",
   "execution_count": 78,
   "id": "8c88a476",
   "metadata": {
    "execution": {
     "iopub.execute_input": "2022-07-03T17:08:18.485792Z",
     "iopub.status.busy": "2022-07-03T17:08:18.485116Z",
     "iopub.status.idle": "2022-07-03T17:08:18.492800Z",
     "shell.execute_reply": "2022-07-03T17:08:18.493332Z",
     "shell.execute_reply.started": "2022-05-04T13:06:31.301393Z"
    },
    "papermill": {
     "duration": 0.113334,
     "end_time": "2022-07-03T17:08:18.493530",
     "exception": false,
     "start_time": "2022-07-03T17:08:18.380196",
     "status": "completed"
    },
    "tags": []
   },
   "outputs": [
    {
     "data": {
      "text/plain": [
       "Voting result\n",
       "7                114\n",
       "6                 91\n",
       "3                 79\n",
       "1                 37\n",
       "2                 36\n",
       "4                 14\n",
       "5                 10\n",
       "dtype: int64"
      ]
     },
     "execution_count": 78,
     "metadata": {},
     "output_type": "execute_result"
    }
   ],
   "source": [
    "vote_y.value_counts()"
   ]
  },
  {
   "cell_type": "code",
   "execution_count": 79,
   "id": "7b2e9be7",
   "metadata": {
    "execution": {
     "iopub.execute_input": "2022-07-03T17:08:18.692147Z",
     "iopub.status.busy": "2022-07-03T17:08:18.691392Z",
     "iopub.status.idle": "2022-07-03T17:08:18.696833Z",
     "shell.execute_reply": "2022-07-03T17:08:18.697378Z",
     "shell.execute_reply.started": "2022-05-04T13:06:31.321208Z"
    },
    "papermill": {
     "duration": 0.105494,
     "end_time": "2022-07-03T17:08:18.697553",
     "exception": false,
     "start_time": "2022-07-03T17:08:18.592059",
     "status": "completed"
    },
    "tags": []
   },
   "outputs": [
    {
     "data": {
      "text/plain": [
       "0.926509186351706"
      ]
     },
     "execution_count": 79,
     "metadata": {},
     "output_type": "execute_result"
    }
   ],
   "source": [
    "accuracy_score(vote_y,test_y)"
   ]
  },
  {
   "cell_type": "code",
   "execution_count": 80,
   "id": "7eaa6f21",
   "metadata": {
    "execution": {
     "iopub.execute_input": "2022-07-03T17:08:18.898658Z",
     "iopub.status.busy": "2022-07-03T17:08:18.897904Z",
     "iopub.status.idle": "2022-07-03T17:08:19.236610Z",
     "shell.execute_reply": "2022-07-03T17:08:19.235230Z",
     "shell.execute_reply.started": "2022-05-04T13:06:31.329926Z"
    },
    "papermill": {
     "duration": 0.440033,
     "end_time": "2022-07-03T17:08:19.236935",
     "exception": true,
     "start_time": "2022-07-03T17:08:18.796902",
     "status": "failed"
    },
    "tags": []
   },
   "outputs": [
    {
     "ename": "AttributeError",
     "evalue": "type object 'ConfusionMatrixDisplay' has no attribute 'from_predictions'",
     "output_type": "error",
     "traceback": [
      "\u001b[0;31m---------------------------------------------------------------------------\u001b[0m",
      "\u001b[0;31mAttributeError\u001b[0m                            Traceback (most recent call last)",
      "\u001b[0;32m/tmp/ipykernel_19/117056097.py\u001b[0m in \u001b[0;36m<module>\u001b[0;34m\u001b[0m\n\u001b[1;32m      1\u001b[0m \u001b[0mfig\u001b[0m\u001b[0;34m,\u001b[0m \u001b[0max\u001b[0m \u001b[0;34m=\u001b[0m \u001b[0mplt\u001b[0m\u001b[0;34m.\u001b[0m\u001b[0msubplots\u001b[0m\u001b[0;34m(\u001b[0m\u001b[0mfigsize\u001b[0m\u001b[0;34m=\u001b[0m\u001b[0;34m(\u001b[0m\u001b[0;36m8\u001b[0m\u001b[0;34m,\u001b[0m\u001b[0;36m8\u001b[0m\u001b[0;34m)\u001b[0m\u001b[0;34m)\u001b[0m\u001b[0;34m\u001b[0m\u001b[0;34m\u001b[0m\u001b[0m\n\u001b[0;32m----> 2\u001b[0;31m \u001b[0mConfusionMatrixDisplay\u001b[0m\u001b[0;34m.\u001b[0m\u001b[0mfrom_predictions\u001b[0m\u001b[0;34m(\u001b[0m\u001b[0mvote_y\u001b[0m\u001b[0;34m,\u001b[0m \u001b[0mtest_y\u001b[0m\u001b[0;34m,\u001b[0m\u001b[0max\u001b[0m\u001b[0;34m=\u001b[0m\u001b[0max\u001b[0m\u001b[0;34m)\u001b[0m\u001b[0;34m\u001b[0m\u001b[0;34m\u001b[0m\u001b[0m\n\u001b[0m\u001b[1;32m      3\u001b[0m \u001b[0mplt\u001b[0m\u001b[0;34m.\u001b[0m\u001b[0mshow\u001b[0m\u001b[0;34m(\u001b[0m\u001b[0;34m)\u001b[0m\u001b[0;34m\u001b[0m\u001b[0;34m\u001b[0m\u001b[0m\n",
      "\u001b[0;31mAttributeError\u001b[0m: type object 'ConfusionMatrixDisplay' has no attribute 'from_predictions'"
     ]
    },
    {
     "data": {
      "image/png": "[encoded data removed]",
      "text/plain": [
       "<Figure size 576x576 with 1 Axes>"
      ]
     },
     "metadata": {
      "needs_background": "light"
     },
     "output_type": "display_data"
    }
   ],
   "source": [
    "fig, ax = plt.subplots(figsize=(8,8))\n",
    "ConfusionMatrixDisplay.from_predictions(vote_y, test_y,ax=ax)\n",
    "plt.show()"
   ]
  },
  {
   "cell_type": "code",
   "execution_count": null,
   "id": "b67f866a",
   "metadata": {
    "execution": {
     "iopub.status.busy": "2022-05-04T13:06:31.668849Z",
     "iopub.status.idle": "2022-05-04T13:06:31.669155Z",
     "shell.execute_reply": "2022-05-04T13:06:31.669009Z",
     "shell.execute_reply.started": "2022-05-04T13:06:31.668992Z"
    },
    "papermill": {
     "duration": null,
     "end_time": null,
     "exception": null,
     "start_time": null,
     "status": "pending"
    },
    "tags": []
   },
   "outputs": [],
   "source": [
    "fig, ax = plt.subplots(figsize=(8,8))\n",
    "ConfusionMatrixDisplay.from_predictions(model_1_smote_pred, test_y,ax=ax)\n",
    "plt.show()"
   ]
  },
  {
   "cell_type": "code",
   "execution_count": null,
   "id": "d71ee086",
   "metadata": {
    "execution": {
     "iopub.status.busy": "2022-05-04T13:06:31.670362Z",
     "iopub.status.idle": "2022-05-04T13:06:31.670691Z",
     "shell.execute_reply": "2022-05-04T13:06:31.670544Z",
     "shell.execute_reply.started": "2022-05-04T13:06:31.670526Z"
    },
    "papermill": {
     "duration": null,
     "end_time": null,
     "exception": null,
     "start_time": null,
     "status": "pending"
    },
    "tags": []
   },
   "outputs": [],
   "source": [
    "import matplotlib.pyplot as plt\n",
    "from sklearn.datasets import make_classification\n",
    "from sklearn.metrics import ConfusionMatrixDisplay\n",
    "from sklearn.model_selection import train_test_split\n",
    "from sklearn.svm import SVC\n",
    "X, y = make_classification(random_state=0)\n",
    "X_train, X_test, y_train, y_test = train_test_split(\n",
    "        X, y, random_state=0)\n",
    "clf = SVC(random_state=0)\n",
    "clf.fit(X_train, y_train)\n",
    "\n",
    "ConfusionMatrixDisplay.from_estimator(\n",
    "    clf, X_test, y_test)\n",
    "\n",
    "plt.show()"
   ]
  },
  {
   "cell_type": "code",
   "execution_count": null,
   "id": "33d27e84",
   "metadata": {
    "execution": {
     "iopub.status.busy": "2022-05-04T13:06:31.671978Z",
     "iopub.status.idle": "2022-05-04T13:06:31.672927Z",
     "shell.execute_reply": "2022-05-04T13:06:31.672676Z",
     "shell.execute_reply.started": "2022-05-04T13:06:31.672646Z"
    },
    "papermill": {
     "duration": null,
     "end_time": null,
     "exception": null,
     "start_time": null,
     "status": "pending"
    },
    "tags": []
   },
   "outputs": [],
   "source": [
    "confusion_matrix(vote_y,test_y)"
   ]
  },
  {
   "cell_type": "code",
   "execution_count": null,
   "id": "4119e106",
   "metadata": {
    "papermill": {
     "duration": null,
     "end_time": null,
     "exception": null,
     "start_time": null,
     "status": "pending"
    },
    "tags": []
   },
   "outputs": [],
   "source": []
  }
 ],
 "metadata": {
  "kernelspec": {
   "display_name": "Python 3 (ipykernel)",
   "language": "python",
   "name": "python3"
  },
  "language_info": {
   "codemirror_mode": {
    "name": "ipython",
    "version": 3
   },
   "file_extension": ".py",
   "mimetype": "text/x-python",
   "name": "python",
   "nbconvert_exporter": "python",
   "pygments_lexer": "ipython3",
   "version": "3.9.12"
  },
  "papermill": {
   "default_parameters": {},
   "duration": 437.262243,
   "end_time": "2022-07-03T17:08:20.160728",
   "environment_variables": {},
   "exception": true,
   "input_path": "__notebook__.ipynb",
   "output_path": "__notebook__.ipynb",
   "parameters": {},
   "start_time": "2022-07-03T17:01:02.898485",
   "version": "2.3.3"
  }
 },
 "nbformat": 4,
 "nbformat_minor": 5
}
